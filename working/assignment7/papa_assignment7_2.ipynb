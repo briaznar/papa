{
 "cells": [
  {
   "cell_type": "code",
   "execution_count": 17,
   "metadata": {
    "collapsed": false
   },
   "outputs": [],
   "source": [
    "import os\n",
    "import re\n",
    "import random\n",
    "import _thread\n",
    "import numpy as np\n",
    "import matplotlib.pyplot as plt\n",
    "import matplotlib.patches as mpatches\n",
    "from collections import Counter\n"
   ]
  },
  {
   "cell_type": "code",
   "execution_count": 18,
   "metadata": {
    "collapsed": true
   },
   "outputs": [],
   "source": [
    "def ReadWiki():\n",
    "    path_to_file = os.path.realpath('.')\n",
    "    n = 0\n",
    "    with open(os.path.join(path_to_file, 'simple_english_wikipedia.txt'), encoding=\"utf8\") as file:\n",
    "        for line in file:\n",
    "            for char in line:\n",
    "                if re.findall('([A-Z a-z ])', char):#any latin letter(cap or lower case) and spaces\n",
    "                    n += 1\n",
    "    return n"
   ]
  },
  {
   "cell_type": "code",
   "execution_count": 19,
   "metadata": {
    "collapsed": true
   },
   "outputs": [],
   "source": [
    "def CalculateZipf():\n",
    "    zipf = {}\n",
    "    probs_new = 0\n",
    "    zipf_probabilities = {' ': 0.17840450037213465, '1': 0.004478392057619917,\n",
    "                          '0': 0.003671824660673643, '3': 0.0011831834225755678,\n",
    "                          '2': 0.0026051307175779174, '5': 0.0011916662329062454,\n",
    "                          '4': 0.0011108979455528355, '7': 0.001079651630435706,\n",
    "                          '6': 0.0010859164582487295, '9': 0.0026071152282516083,\n",
    "                          '8': 0.0012921888323905763, '_': 2.3580656240324293e-05,\n",
    "                          'a': 0.07264712490903191, 'c': 0.02563767289222365,\n",
    "                          'b': 0.013368688579962115, 'e': 0.09688273452496411,\n",
    "                          'd': 0.029857183586861923, 'g': 0.015076820473031856,\n",
    "                          'f': 0.017232219565845877, 'i': 0.06007894642873102,\n",
    "                          'h': 0.03934894249122837, 'k': 0.006067466280926215,\n",
    "                          'j': 0.0018537015877810488, 'm': 0.022165129421030945,\n",
    "                          'l': 0.03389465109649857, 'o': 0.05792847618595622,\n",
    "                          'n': 0.058519445305660105, 'q': 0.0006185966212395744,\n",
    "                          'p': 0.016245321110753712, 's': 0.055506530071283755,\n",
    "                          'r': 0.05221605572640867, 'u': 0.020582942617121572,\n",
    "                          't': 0.06805204881206219, 'w': 0.013964469813783246,\n",
    "                          'v': 0.007927199224676324, 'y': 0.013084644140464391,\n",
    "                          'x': 0.0014600810295164054, 'z': 0.001048859288348506}\n",
    "    for char, prob in zipf_probabilities.items():\n",
    "        probs_new += prob\n",
    "        zipf[char] = probs_new\n",
    "    return zipf"
   ]
  },
  {
   "cell_type": "code",
   "execution_count": 20,
   "metadata": {
    "collapsed": true
   },
   "outputs": [],
   "source": [
    "def CalculateUniform():\n",
    "    uniform = {}\n",
    "    probs_new = 0\n",
    "    uniform_probabilities = {' ': 0.1875, 'a': 0.03125, 'c': 0.03125, 'b': 0.03125, 'e': 0.03125, 'd': 0.03125,\n",
    "                             'g': 0.03125, 'f': 0.03125, 'i': 0.03125, 'h': 0.03125, 'k': 0.03125, 'j': 0.03125,\n",
    "                             'm': 0.03125, 'l': 0.03125, 'o': 0.03125, 'n': 0.03125, 'q': 0.03125, 'p': 0.03125,\n",
    "                             's': 0.03125, 'r': 0.03125, 'u': 0.03125, 't': 0.03125, 'w': 0.03125, 'v': 0.03125,\n",
    "                             'y': 0.03125, 'x': 0.03125, 'z': 0.03125}\n",
    "\n",
    "    for char, prob in uniform_probabilities.items():\n",
    "          probs_new += prob\n",
    "          uniform[char] = probs_new\n",
    "    return uniform"
   ]
  },
  {
   "cell_type": "code",
   "execution_count": 45,
   "metadata": {
    "collapsed": false
   },
   "outputs": [
    {
     "ename": "SyntaxError",
     "evalue": "invalid syntax (<ipython-input-45-73885ff216cb>, line 13)",
     "output_type": "error",
     "traceback": [
      "\u001b[0;36m  File \u001b[0;32m\"<ipython-input-45-73885ff216cb>\"\u001b[0;36m, line \u001b[0;32m13\u001b[0m\n\u001b[0;31m    except(Exception e):\u001b[0m\n\u001b[0m                     ^\u001b[0m\n\u001b[0;31mSyntaxError\u001b[0m\u001b[0;31m:\u001b[0m invalid syntax\n"
     ]
    }
   ],
   "source": [
    "def makeGibberish(prob, n, prob_name):\n",
    "    i = 0\n",
    "    words = ''\n",
    "    find_char = []\n",
    "    while i <= n:\n",
    "        i += 1\n",
    "        rand = random.random()\n",
    "        for key, val in prob.items():\n",
    "            if val >= rand:\n",
    "                find_char.append(val)\n",
    "        try:\n",
    "            next_char_val = min(find_char) #finds the closest (smaller) value of the probability model to rand\n",
    "        except(Exception e):\n",
    "            print(e)\n",
    "            pass\n",
    "\n",
    "        for char, val in prob.items():\n",
    "            if next_char_val == val:\n",
    "                next_char = char\n",
    "\n",
    "        find_char = [] #reinitializes the array\n",
    "        words += next_char\n",
    "    saveFile(words, prob_name)"
   ]
  },
  {
   "cell_type": "code",
   "execution_count": 22,
   "metadata": {
    "collapsed": true
   },
   "outputs": [],
   "source": [
    "def saveFile(words, file_name):\n",
    "    path_to_file = os.path.realpath('.')\n",
    "    with open(os.path.join(path_to_file, file_name+'.txt'), 'w') as file_to_write:\n",
    "        file_to_write.write(words)\n",
    "        file_to_write.close()\n"
   ]
  },
  {
   "cell_type": "code",
   "execution_count": 23,
   "metadata": {
    "collapsed": true
   },
   "outputs": [],
   "source": [
    "def countWords(file):\n",
    "    path_to_file = os.path.realpath('.')\n",
    "    total_words = 0\n",
    "    words = []\n",
    "    with open(os.path.join(path_to_file, file), encoding=\"utf8\") as file:\n",
    "        for line in file:\n",
    "            total_words += len(re.findall(r'\\w+', line))\n",
    "            words += re.findall(r'\\w+', line)\n",
    "\n",
    "    return words, total_words"
   ]
  },
  {
   "cell_type": "code",
   "execution_count": 24,
   "metadata": {
    "collapsed": true
   },
   "outputs": [],
   "source": [
    "def rank(words, do_join):\n",
    "    if do_join:\n",
    "        words = ' '.join(words)\n",
    "    counter = Counter(words)\n",
    "    words, frq = zip(*counter.most_common())\n",
    "\n",
    "    return frq"
   ]
  },
  {
   "cell_type": "code",
   "execution_count": 25,
   "metadata": {
    "collapsed": true
   },
   "outputs": [],
   "source": [
    "def rankPlot(x_zipf, x_uniform, x_sew, zipf_freq, uniform_freq, sew_freq):\n",
    "\n",
    "    plt.loglog(x_zipf, zipf_freq, 'r-')\n",
    "    plt.loglog(x_uniform, uniform_freq, 'b-')\n",
    "    plt.loglog(x_sew, sew_freq, 'g-')\n",
    "\n",
    "    # adds labels to the axis\n",
    "    plt.ylabel('Frequency')\n",
    "    plt.xlabel('Word Rank')\n",
    "    # generates legend\n",
    "    zipf_legend = mpatches.Patch(color='red', label='generated zipf')\n",
    "    unifrom_legend = mpatches.Patch(color='blue', label='generated uniform')\n",
    "    sew_legend = mpatches.Patch(color='green', label='original text')\n",
    "    plt.legend(handles=[zipf_legend, unifrom_legend,sew_legend ], loc=5)\n",
    "    plt.show()"
   ]
  },
  {
   "cell_type": "code",
   "execution_count": 26,
   "metadata": {
    "collapsed": true
   },
   "outputs": [],
   "source": [
    "def getCDF(freq):\n",
    "    cumsum = np.cumsum(freq)\n",
    "    normedcumsum = [x/float(cumsum[-1]) for x in cumsum]\n",
    "    return normedcumsum\n"
   ]
  },
  {
   "cell_type": "code",
   "execution_count": 27,
   "metadata": {
    "collapsed": true
   },
   "outputs": [],
   "source": [
    "def plotCDF(x_zipf, x_uniform, x_sew, zipf_cumsum, uniform_cumsum, sew_cumsum):\n",
    "    plt.semilogx(x_zipf, zipf_cumsum, 'r-')\n",
    "    plt.semilogx(x_uniform, uniform_cumsum, 'b-')\n",
    "    plt.semilogx(x_sew, sew_cumsum, 'g-')\n",
    "\n",
    "    # adds labels to the axis\n",
    "    plt.ylabel('CDF')\n",
    "    plt.xlabel('Word Rank')\n",
    "    # generates legend\n",
    "    zipf_legend = mpatches.Patch(color='red', label='generated zipf')\n",
    "    unifrom_legend = mpatches.Patch(color='blue', label='generated uniform')\n",
    "    sew_legend = mpatches.Patch(color='green', label='original text')\n",
    "    plt.legend(handles=[zipf_legend, unifrom_legend, sew_legend], loc=5)\n",
    "    plt.show()\n",
    "  "
   ]
  },
  {
   "cell_type": "code",
   "execution_count": 35,
   "metadata": {
    "collapsed": false
   },
   "outputs": [],
   "source": [
    "def task(zip_file, uniform_file):  \n",
    "    print('Counting chars in SEW please wait')\n",
    "    #n = read_wiki() #89860319 number of letters and spaces\n",
    "    n = 89860319\n",
    "    #zipf = CalculateZipf()\n",
    "    #uniform = CalculateUniform()\n",
    "\n",
    "    #print('Starting gibberish creation from zipf')\n",
    "    #makeGibberish(zipf, n, zip_file)\n",
    "    #print(zip_file + '.txt Created')\n",
    "\n",
    "    #print('Starting gibberish creation from uniform probabilities')\n",
    "    #makeGibberish(uniform, n, 'uniform')\n",
    "    #print(uniform_file + '.txt Created')\n",
    "\n",
    "    print('Starting Word count for zipf distribution')\n",
    "    zipf_words, zipf_count = countWords(zip_file + '.txt')\n",
    "    print(zipf_count)\n",
    "\n",
    "    print('Starting Word count for uniform distribution')\n",
    "    uniform_words, uniform_count = countWords(uniform_file + '.txt')\n",
    "    print(uniform_count)\n",
    "\n",
    "    print('Starting Word count for SEW')\n",
    "    sew_words, sew_count = countWords('simple_english_wikipedia.txt')\n",
    "    print(sew_count)\n",
    "    \n",
    "    print('Calculating rank of zip')\n",
    "    zipf_frq = rank(zipf_words, False)\n",
    "\n",
    "    print('Calculating rank of uniform')\n",
    "    uniform_frq = rank(uniform_words, False)\n",
    "\n",
    "    print('Calculating rank of sew')\n",
    "    sew_frq = rank(sew_words, True)\n",
    "    x_zipf = [i for i in range(0, len(zipf_frq))]\n",
    "    x_uniform = [i for i in range(0, len(uniform_frq))]\n",
    "    x_sew = [i for i in range(0, len(sew_frq))]\n",
    "\n",
    "    print('Generating plot')\n",
    "    rankPlot(x_zipf, x_uniform, x_sew, zipf_frq, uniform_frq, sew_frq)\n",
    "    print('Calculating CDF for Zipf')\n",
    "    zipf_cdf_cumsum = getCDF(zipf_frq)\n",
    "\n",
    "    print('Calculating CDF for uniform')\n",
    "    uniform_cdf_cumsum = getCDF(uniform_frq)\n",
    "\n",
    "    print('Calculating CDF for SEW')\n",
    "    sew_cdf_cumsum = getCDF(sew_frq)\n",
    "\n",
    "    x_zipf = [i for i in range(0, len(zipf_cdf_cumsum))]\n",
    "    x_uniform = [i for i in range(0, len(uniform_cdf_cumsum))]\n",
    "    x_sew = [i for i in range(0, len(sew_cdf_cumsum))]\n",
    "    \n",
    "    print('Generating CDF plot')\n",
    "    plotCDF(x_zipf, x_uniform, x_sew, zipf_cdf_cumsum, uniform_cdf_cumsum, sew_cdf_cumsum)\n",
    "    \n",
    "    #Kolmogorv Smirnov test \n",
    "    smirnov_zipf_max=[]\n",
    "    zipf_cdf_cumsum = zipf_cdf_cumsum [0:len(sew_cdf_cumsum)]\n",
    "    smirnov_zipf = [sew_cdf_cumsum_i - zipf_cdf_cumsum_i for sew_cdf_cumsum_i, zipf_cdf_cumsum_i in zip(sew_cdf_cumsum, zipf_cdf_cumsum)]\n",
    "    smirnov_zipf_max.append(max(smirnov_zipf))\n",
    "    print(smirnov_zipf_max)\n",
    "\n",
    "    #Kolmogorv Smirnov test \n",
    "    uniform_zipf_max= []\n",
    "    uniform_cdf_cumsum = uniform_cdf_cumsum [0:len(sew_cdf_cumsum)]\n",
    "    uniform_zipf = [sew_cdf_cumsum_i - uniform_cdf_cumsum_i for sew_cdf_cumsum_i, uniform_cdf_cumsum_i in zip(sew_cdf_cumsum, uniform_cdf_cumsum)]\n",
    "    uniform_zipf_max.append(max(uniform_zipf))\n",
    "    print(uniform_zipf_max)\n",
    "    "
   ]
  },
  {
   "cell_type": "code",
   "execution_count": null,
   "metadata": {
    "collapsed": false
   },
   "outputs": [
    {
     "name": "stdout",
     "output_type": "stream",
     "text": [
      "Counting chars in SEW please wait\n",
      "Starting gibberish creation from zipf\n"
     ]
    }
   ],
   "source": [
    "task('zipf', 'uniform')"
   ]
  },
  {
   "cell_type": "code",
   "execution_count": null,
   "metadata": {
    "collapsed": true
   },
   "outputs": [],
   "source": [
    "task('zipf_2', 'uniform_2')"
   ]
  },
  {
   "cell_type": "code",
   "execution_count": null,
   "metadata": {
    "collapsed": true
   },
   "outputs": [],
   "source": [
    "task('zipf_3', 'uniform_3')"
   ]
  }
 ],
 "metadata": {
  "anaconda-cloud": {},
  "kernelspec": {
   "display_name": "Python [conda root]",
   "language": "python",
   "name": "conda-root-py"
  },
  "language_info": {
   "codemirror_mode": {
    "name": "ipython",
    "version": 3
   },
   "file_extension": ".py",
   "mimetype": "text/x-python",
   "name": "python",
   "nbconvert_exporter": "python",
   "pygments_lexer": "ipython3",
   "version": "3.5.2"
  }
 },
 "nbformat": 4,
 "nbformat_minor": 1
}
