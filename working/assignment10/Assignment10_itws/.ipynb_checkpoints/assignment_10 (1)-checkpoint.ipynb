{
 "cells": [
  {
   "cell_type": "code",
   "execution_count": 1,
   "metadata": {
    "collapsed": true
   },
   "outputs": [],
   "source": [
    "import numpy as np\n",
    "import pandas as pd\n",
    "from collections import Counter\n",
    "import math\n",
    "import matplotlib.pyplot as plt"
   ]
  },
  {
   "cell_type": "code",
   "execution_count": 2,
   "metadata": {
    "collapsed": false
   },
   "outputs": [
    {
     "data": {
      "text/html": [
       "<div>\n",
       "<table border=\"1\" class=\"dataframe\">\n",
       "  <thead>\n",
       "    <tr style=\"text-align: right;\">\n",
       "      <th></th>\n",
       "      <th>user</th>\n",
       "      <th>date</th>\n",
       "      <th>hashtag</th>\n",
       "    </tr>\n",
       "  </thead>\n",
       "  <tbody>\n",
       "    <tr>\n",
       "      <th>0</th>\n",
       "      <td>webcom09</td>\n",
       "      <td>2008-11-11</td>\n",
       "      <td>#webcom08</td>\n",
       "    </tr>\n",
       "    <tr>\n",
       "      <th>1</th>\n",
       "      <td>kirsn</td>\n",
       "      <td>2008-11-11</td>\n",
       "      <td>#cassandra</td>\n",
       "    </tr>\n",
       "    <tr>\n",
       "      <th>2</th>\n",
       "      <td>mediahatch</td>\n",
       "      <td>2008-11-11</td>\n",
       "      <td>#pubcon</td>\n",
       "    </tr>\n",
       "    <tr>\n",
       "      <th>3</th>\n",
       "      <td>Give_Respect</td>\n",
       "      <td>2008-11-11</td>\n",
       "      <td>#107</td>\n",
       "    </tr>\n",
       "    <tr>\n",
       "      <th>4</th>\n",
       "      <td>Nathan_Safran</td>\n",
       "      <td>2008-11-11</td>\n",
       "      <td>#2</td>\n",
       "    </tr>\n",
       "  </tbody>\n",
       "</table>\n",
       "</div>"
      ],
      "text/plain": [
       "            user        date     hashtag\n",
       "0       webcom09  2008-11-11   #webcom08\n",
       "1          kirsn  2008-11-11  #cassandra\n",
       "2     mediahatch  2008-11-11     #pubcon\n",
       "3   Give_Respect  2008-11-11        #107\n",
       "4  Nathan_Safran  2008-11-11          #2"
      ]
     },
     "execution_count": 2,
     "metadata": {},
     "output_type": "execute_result"
    }
   ],
   "source": [
    "data = pd.read_table(\"onlyhash.data\",names=[\"user\",\"date\",\"hashtag\"])\n",
    "data.head()"
   ]
  },
  {
   "cell_type": "code",
   "execution_count": 3,
   "metadata": {
    "collapsed": false
   },
   "outputs": [
    {
     "data": {
      "text/plain": [
       "(926507, 3)"
      ]
     },
     "execution_count": 3,
     "metadata": {},
     "output_type": "execute_result"
    }
   ],
   "source": [
    "data.shape"
   ]
  },
  {
   "cell_type": "code",
   "execution_count": 4,
   "metadata": {
    "collapsed": false
   },
   "outputs": [
    {
     "data": {
      "text/html": [
       "<div>\n",
       "<table border=\"1\" class=\"dataframe\">\n",
       "  <thead>\n",
       "    <tr style=\"text-align: right;\">\n",
       "      <th></th>\n",
       "      <th>user</th>\n",
       "      <th>date</th>\n",
       "      <th>hashtag</th>\n",
       "      <th>hashtag_list</th>\n",
       "    </tr>\n",
       "  </thead>\n",
       "  <tbody>\n",
       "    <tr>\n",
       "      <th>0</th>\n",
       "      <td>webcom09</td>\n",
       "      <td>2008-11-11</td>\n",
       "      <td>#webcom08</td>\n",
       "      <td>[#webcom08]</td>\n",
       "    </tr>\n",
       "    <tr>\n",
       "      <th>1</th>\n",
       "      <td>kirsn</td>\n",
       "      <td>2008-11-11</td>\n",
       "      <td>#cassandra</td>\n",
       "      <td>[#cassandra]</td>\n",
       "    </tr>\n",
       "    <tr>\n",
       "      <th>2</th>\n",
       "      <td>mediahatch</td>\n",
       "      <td>2008-11-11</td>\n",
       "      <td>#pubcon</td>\n",
       "      <td>[#pubcon]</td>\n",
       "    </tr>\n",
       "    <tr>\n",
       "      <th>3</th>\n",
       "      <td>Give_Respect</td>\n",
       "      <td>2008-11-11</td>\n",
       "      <td>#107</td>\n",
       "      <td>[#107]</td>\n",
       "    </tr>\n",
       "    <tr>\n",
       "      <th>4</th>\n",
       "      <td>Nathan_Safran</td>\n",
       "      <td>2008-11-11</td>\n",
       "      <td>#2</td>\n",
       "      <td>[#2]</td>\n",
       "    </tr>\n",
       "  </tbody>\n",
       "</table>\n",
       "</div>"
      ],
      "text/plain": [
       "            user        date     hashtag  hashtag_list\n",
       "0       webcom09  2008-11-11   #webcom08   [#webcom08]\n",
       "1          kirsn  2008-11-11  #cassandra  [#cassandra]\n",
       "2     mediahatch  2008-11-11     #pubcon     [#pubcon]\n",
       "3   Give_Respect  2008-11-11        #107        [#107]\n",
       "4  Nathan_Safran  2008-11-11          #2          [#2]"
      ]
     },
     "execution_count": 4,
     "metadata": {},
     "output_type": "execute_result"
    }
   ],
   "source": [
    "data[\"hashtag_list\"] = data.hashtag.apply(lambda x: x.split(\" \"))\n",
    "# data = data.head(10)\n",
    "data.head(5)"
   ]
  },
  {
   "cell_type": "code",
   "execution_count": 5,
   "metadata": {
    "collapsed": false
   },
   "outputs": [
    {
     "name": "stdout",
     "output_type": "stream",
     "text": [
      "17517\n",
      "7637\n"
     ]
    }
   ],
   "source": [
    "x = data[data[\"date\"] == '2009-10-12']\n",
    "print(len(x))\n",
    "print(len(x.user.unique()))"
   ]
  },
  {
   "cell_type": "code",
   "execution_count": 6,
   "metadata": {
    "collapsed": false
   },
   "outputs": [
    {
     "data": {
      "text/plain": [
       "array([['#webcom08'], ['#cassandra'], ['#pubcon'], ..., ['#jobsearch'],\n",
       "       ['#animation', '#toystory3', '#toystory'], ['#yshuttle']], dtype=object)"
      ]
     },
     "execution_count": 6,
     "metadata": {},
     "output_type": "execute_result"
    }
   ],
   "source": [
    "data.hashtag_list.values"
   ]
  },
  {
   "cell_type": "code",
   "execution_count": 7,
   "metadata": {
    "collapsed": false
   },
   "outputs": [
    {
     "data": {
      "text/plain": [
       "(926507, 4)"
      ]
     },
     "execution_count": 7,
     "metadata": {},
     "output_type": "execute_result"
    }
   ],
   "source": [
    "data.shape"
   ]
  },
  {
   "cell_type": "code",
   "execution_count": 8,
   "metadata": {
    "collapsed": false
   },
   "outputs": [
    {
     "data": {
      "text/plain": [
       "14.273937358455685"
      ]
     },
     "execution_count": 8,
     "metadata": {},
     "output_type": "execute_result"
    }
   ],
   "source": [
    "data.user.value_counts().mean()"
   ]
  },
  {
   "cell_type": "code",
   "execution_count": 9,
   "metadata": {
    "collapsed": false
   },
   "outputs": [],
   "source": [
    "users = data.user.unique()\n",
    "#print(len(users))\n",
    "index = [i for i in range(1, len(users)+1)]\n",
    "\n",
    "dates = data.date.unique()\n",
    "index2 = [i for i in range(1, len(dates)+1)]"
   ]
  },
  {
   "cell_type": "code",
   "execution_count": 10,
   "metadata": {
    "collapsed": false
   },
   "outputs": [],
   "source": [
    "df = pd.DataFrame(users, index=index, columns=['user'])\n",
    "df = df.head(1000)"
   ]
  },
  {
   "cell_type": "code",
   "execution_count": 11,
   "metadata": {
    "collapsed": false
   },
   "outputs": [
    {
     "data": {
      "text/plain": [
       "['#hiring',\n",
       " '#voucher',\n",
       " '#google',\n",
       " '#pay',\n",
       " '#adwords',\n",
       " '#voucher_code',\n",
       " '#google',\n",
       " '#job',\n",
       " '#job',\n",
       " '#hiring',\n",
       " '#php',\n",
       " '#cake',\n",
       " '#app',\n",
       " '#convert',\n",
       " '#cake_php',\n",
       " '#php_app',\n",
       " '#convert_php',\n",
       " '#jobs',\n",
       " '#job',\n",
       " '#hiring',\n",
       " '#articles',\n",
       " '#article',\n",
       " '#site',\n",
       " '#created',\n",
       " '#cms',\n",
       " '#user',\n",
       " '#pending',\n",
       " '#jobs',\n",
       " '#hiring',\n",
       " '#net',\n",
       " '#developer',\n",
       " '#worked',\n",
       " '#cms',\n",
       " '#urgent',\n",
       " '#many_thanks',\n",
       " '#cms',\n",
       " '#job',\n",
       " '#hiring',\n",
       " '#video',\n",
       " '#channel',\n",
       " '#bandwidth',\n",
       " '#joomla',\n",
       " '#mods',\n",
       " '#fla',\n",
       " '#videos',\n",
       " '#bandwidth_usage',\n",
       " '#job',\n",
       " '#hiring',\n",
       " '#joomla',\n",
       " '#ie8',\n",
       " '#ie7',\n",
       " '#project',\n",
       " '#template',\n",
       " '#projects',\n",
       " '#added',\n",
       " '#custom_scrollbar',\n",
       " '#job',\n",
       " '#hiring',\n",
       " '#ups',\n",
       " '#sign_ups',\n",
       " '#indians',\n",
       " '#confirmation',\n",
       " '#ups',\n",
       " '#job',\n",
       " '#job',\n",
       " '#hiring',\n",
       " '#data',\n",
       " '#honest',\n",
       " '#worker',\n",
       " '#hard',\n",
       " '#project',\n",
       " '#anty',\n",
       " '#hard_worker',\n",
       " '#job',\n",
       " '#hiring',\n",
       " '#video',\n",
       " '#30sec',\n",
       " '#part',\n",
       " '#talking',\n",
       " '#advertisement',\n",
       " '#video_advertisement',\n",
       " '#source_file',\n",
       " '#job',\n",
       " '#hiring',\n",
       " '#gnudialer',\n",
       " '#asterisk',\n",
       " '#install',\n",
       " '#days',\n",
       " '#project',\n",
       " '#testing',\n",
       " '#given',\n",
       " '#bugs',\n",
       " '#job',\n",
       " '#job',\n",
       " '#job',\n",
       " '#hiring',\n",
       " '#requests',\n",
       " '#friend',\n",
       " '#send',\n",
       " '#social',\n",
       " '#friend_requests',\n",
       " '#send_friend',\n",
       " '#jobs',\n",
       " '#job',\n",
       " '#hiring',\n",
       " '#asap',\n",
       " '#don',\n",
       " '#things',\n",
       " '#things_asap',\n",
       " '#jobs',\n",
       " '#job',\n",
       " '#hiring',\n",
       " '#image',\n",
       " '#exif',\n",
       " '#scripting',\n",
       " '#metadata',\n",
       " '#images',\n",
       " '#writing',\n",
       " '#php',\n",
       " '#jobs',\n",
       " '#job',\n",
       " '#hiring',\n",
       " '#asap',\n",
       " '#don',\n",
       " '#things',\n",
       " '#things_asap',\n",
       " '#jobs',\n",
       " '#job',\n",
       " '#hiring',\n",
       " '#page',\n",
       " '#website',\n",
       " '#design',\n",
       " '#html',\n",
       " '#selected',\n",
       " '#provide',\n",
       " '#bid',\n",
       " '#jobs',\n",
       " '#hiring',\n",
       " '#website',\n",
       " '#design',\n",
       " '#flash',\n",
       " '#html',\n",
       " '#hosting',\n",
       " '#service',\n",
       " '#websiet',\n",
       " '#escrow',\n",
       " '#job',\n",
       " '#hiring',\n",
       " '#website',\n",
       " '#amp',\n",
       " '#online',\n",
       " '#shopping',\n",
       " '#buyers',\n",
       " '#seo',\n",
       " '#design',\n",
       " '#bidders',\n",
       " '#ebay',\n",
       " '#resellers',\n",
       " '#job',\n",
       " '#hiring',\n",
       " '#looking',\n",
       " '#speech',\n",
       " '#based',\n",
       " '#writer',\n",
       " '#professional',\n",
       " '#job',\n",
       " '#job',\n",
       " '#hiring',\n",
       " '#links',\n",
       " '#link',\n",
       " '#optimization',\n",
       " '#site',\n",
       " '#article',\n",
       " '#page',\n",
       " '#seo',\n",
       " '#jobs',\n",
       " '#job',\n",
       " '#hiring',\n",
       " '#website',\n",
       " '#project',\n",
       " '#clone',\n",
       " '#website_project',\n",
       " '#clone_website',\n",
       " '#jobs',\n",
       " '#hiring',\n",
       " '#articles',\n",
       " '#article',\n",
       " '#wars',\n",
       " '#mafia',\n",
       " '#writing',\n",
       " '#job',\n",
       " '#job',\n",
       " '#hiring',\n",
       " '#sites',\n",
       " '#submission',\n",
       " '#worked',\n",
       " '#creation',\n",
       " '#web',\n",
       " '#month',\n",
       " '#added',\n",
       " '#registration_technique',\n",
       " '#job',\n",
       " '#job',\n",
       " '#hiring',\n",
       " '#password',\n",
       " '#recover',\n",
       " '#recover_password',\n",
       " '#security_system_administration',\n",
       " '#jobs',\n",
       " '#hiring',\n",
       " '#logo',\n",
       " '#design',\n",
       " '#agency',\n",
       " '#letterhead',\n",
       " '#travel',\n",
       " '#company',\n",
       " '#company_logo',\n",
       " '#job',\n",
       " '#hiring',\n",
       " '#extended',\n",
       " '#p611',\n",
       " '#private_project',\n",
       " '#job',\n",
       " '#hiring',\n",
       " '#website',\n",
       " '#new',\n",
       " '#coding',\n",
       " '#special',\n",
       " '#series',\n",
       " '#new_website',\n",
       " '#job',\n",
       " '#hiring',\n",
       " '#sandipan',\n",
       " '#project',\n",
       " '#job',\n",
       " '#job',\n",
       " '#hiring',\n",
       " '#seo',\n",
       " '#want_seo',\n",
       " '#search_engine_optimization',\n",
       " '#seo_search_engine',\n",
       " '#jobs',\n",
       " '#hiring',\n",
       " '#project',\n",
       " '#trinkeld',\n",
       " '#job',\n",
       " '#hiring',\n",
       " '#website',\n",
       " '#moving',\n",
       " '#site',\n",
       " '#php',\n",
       " '#servers',\n",
       " '#fixed',\n",
       " '#server_www',\n",
       " '#servers',\n",
       " '#job',\n",
       " '#hiring',\n",
       " '#math',\n",
       " '#online',\n",
       " '#teachers',\n",
       " '#science',\n",
       " '#english',\n",
       " '#indian_nationals',\n",
       " '#job',\n",
       " '#hiring',\n",
       " '#logo',\n",
       " '#design',\n",
       " '#bid',\n",
       " '#header',\n",
       " '#wordpress',\n",
       " '#site',\n",
       " '#logo_design',\n",
       " '#job',\n",
       " '#hiring',\n",
       " '#facebook',\n",
       " '#game',\n",
       " '#texas',\n",
       " '#poker',\n",
       " '#app',\n",
       " '#programmers',\n",
       " '#work',\n",
       " '#job',\n",
       " '#job',\n",
       " '#hiring',\n",
       " '#cms',\n",
       " '#ajax',\n",
       " '#php',\n",
       " '#cms_ajax',\n",
       " '#php_cms',\n",
       " '#ajax_php',\n",
       " '#jobs',\n",
       " '#job',\n",
       " '#hiring',\n",
       " '#sms',\n",
       " '#site',\n",
       " '#website',\n",
       " '#user',\n",
       " '#design',\n",
       " '#free',\n",
       " '#code',\n",
       " '#jobs',\n",
       " '#hiring',\n",
       " '#based',\n",
       " '#price',\n",
       " '#bid',\n",
       " '#submission',\n",
       " '#home',\n",
       " '#amp',\n",
       " '#pmb',\n",
       " '#job',\n",
       " '#job',\n",
       " '#hiring',\n",
       " '#wikimedia',\n",
       " '#html',\n",
       " '#economic',\n",
       " '#images',\n",
       " '#format',\n",
       " '#sites',\n",
       " '#money',\n",
       " '#jobs',\n",
       " '#hiring',\n",
       " '#design',\n",
       " '#template',\n",
       " '#cubecart',\n",
       " '#template_design',\n",
       " '#job',\n",
       " '#hiring',\n",
       " '#tonic',\n",
       " '#design',\n",
       " '#website',\n",
       " '#designs',\n",
       " '#cre8tive',\n",
       " '#private',\n",
       " '#job',\n",
       " '#hiring',\n",
       " '#design',\n",
       " '#logo',\n",
       " '#letterhead',\n",
       " '#agency',\n",
       " '#new',\n",
       " '#travel',\n",
       " '#amp',\n",
       " '#job',\n",
       " '#hiring',\n",
       " '#angel',\n",
       " '#proj',\n",
       " '#private',\n",
       " '#proj',\n",
       " '#angel',\n",
       " '#job',\n",
       " '#hiring',\n",
       " '#graphic',\n",
       " '#users',\n",
       " '#over',\n",
       " '#design',\n",
       " '#million',\n",
       " '#birthday_cake',\n",
       " '#fireworks',\n",
       " '#job',\n",
       " '#hiring',\n",
       " '#questions',\n",
       " '#difficulty',\n",
       " '#level',\n",
       " '#mathematical',\n",
       " '#third',\n",
       " '#completed',\n",
       " '#test',\n",
       " '#job',\n",
       " '#hiring',\n",
       " '#articles',\n",
       " '#creative',\n",
       " '#unique',\n",
       " '#interested',\n",
       " '#topics',\n",
       " '#automobile_body_repairs',\n",
       " '#job',\n",
       " '#hiring',\n",
       " '#website',\n",
       " '#traffic',\n",
       " '#indians',\n",
       " '#traffic',\n",
       " '#job',\n",
       " '#job',\n",
       " '#hiring',\n",
       " '#page',\n",
       " '#registration',\n",
       " '#click',\n",
       " '#com',\n",
       " '#login',\n",
       " '#blog',\n",
       " '#joomla',\n",
       " '#jobs',\n",
       " '#job',\n",
       " '#hiring',\n",
       " '#joomla',\n",
       " '#site',\n",
       " '#mods',\n",
       " '#joomla_site',\n",
       " '#make_mods',\n",
       " '#http_demo_kbcapconsulting',\n",
       " '#jobs',\n",
       " '#hiring',\n",
       " '#wp5',\n",
       " '#extention',\n",
       " '#theme',\n",
       " '#wordpress',\n",
       " '#job',\n",
       " '#hiring',\n",
       " '#wordpress',\n",
       " '#integration',\n",
       " '#wp4',\n",
       " '#medial',\n",
       " '#feeds',\n",
       " '#job',\n",
       " '#hiring',\n",
       " '#wordpress',\n",
       " '#wp3',\n",
       " '#plugin',\n",
       " '#admin',\n",
       " '#job',\n",
       " '#hiring',\n",
       " '#com',\n",
       " '#optimization',\n",
       " '#maps',\n",
       " '#local',\n",
       " '#search',\n",
       " '#seo',\n",
       " '#search_maps',\n",
       " '#similar_services',\n",
       " '#job',\n",
       " '#job',\n",
       " '#hiring',\n",
       " '#gallery',\n",
       " '#photo',\n",
       " '#lightbox',\n",
       " '#photo_gallery',\n",
       " '#lightbox_photo',\n",
       " '#jobs',\n",
       " '#job',\n",
       " '#hiring',\n",
       " '#wordpress',\n",
       " '#blocks',\n",
       " '#phpnuke',\n",
       " '#phpnuke_blocks',\n",
       " '#php_wordpress_xhtml',\n",
       " '#jobs',\n",
       " '#hiring',\n",
       " '#game',\n",
       " '#iphone',\n",
       " '#graphics',\n",
       " '#play',\n",
       " '#music',\n",
       " '#physics',\n",
       " '#theme',\n",
       " '#space_robot',\n",
       " '#gimmik',\n",
       " '#job',\n",
       " '#hiring',\n",
       " '#script',\n",
       " '#website',\n",
       " '#properly',\n",
       " '#php',\n",
       " '#working',\n",
       " '#php_script',\n",
       " '#job',\n",
       " '#hiring',\n",
       " '#accounts',\n",
       " '#data',\n",
       " '#job',\n",
       " '#hiring',\n",
       " '#james002',\n",
       " '#project',\n",
       " '#good_worker',\n",
       " '#job',\n",
       " '#hiring',\n",
       " '#php',\n",
       " '#programmer',\n",
       " '#required',\n",
       " '#needed',\n",
       " '#experience',\n",
       " '#basic_web_design',\n",
       " '#web_design_skills',\n",
       " '#job',\n",
       " '#hiring',\n",
       " '#php',\n",
       " '#programmer',\n",
       " '#required',\n",
       " '#needed',\n",
       " '#commerce',\n",
       " '#experience',\n",
       " '#php_programmer',\n",
       " '#job',\n",
       " '#hiring',\n",
       " '#bot',\n",
       " '#signup',\n",
       " '#random',\n",
       " '#website',\n",
       " '#java',\n",
       " '#php',\n",
       " '#auto',\n",
       " '#random_values',\n",
       " '#random_value',\n",
       " '#job',\n",
       " '#job',\n",
       " '#hiring',\n",
       " '#programmer',\n",
       " '#programmer_programming_mysql',\n",
       " '#jobs',\n",
       " '#hiring',\n",
       " '#data',\n",
       " '#bit',\n",
       " '#anty',\n",
       " '#new',\n",
       " '#anty',\n",
       " '#job',\n",
       " '#hiring',\n",
       " '#design',\n",
       " '#logo',\n",
       " '#company',\n",
       " '#css',\n",
       " '#person',\n",
       " '#web',\n",
       " '#template',\n",
       " '#job',\n",
       " '#hiring',\n",
       " '#ripon',\n",
       " '#captcha',\n",
       " '#place_bid',\n",
       " '#private_project',\n",
       " '#job',\n",
       " '#hiring',\n",
       " '#work',\n",
       " '#per',\n",
       " '#week',\n",
       " '#css',\n",
       " '#developer',\n",
       " '#working',\n",
       " '#looking',\n",
       " '#job',\n",
       " '#hiring',\n",
       " '#ads',\n",
       " '#hits',\n",
       " '#promotion',\n",
       " '#posting',\n",
       " '#post',\n",
       " '#blog',\n",
       " '#world',\n",
       " '#upto',\n",
       " '#data_base',\n",
       " '#job',\n",
       " '#hiring',\n",
       " '#blackberry',\n",
       " '#application',\n",
       " '#map',\n",
       " '#data',\n",
       " '#xml',\n",
       " '#depth_answers',\n",
       " '#webservice',\n",
       " '#freelancer',\n",
       " '#job',\n",
       " '#hiring',\n",
       " '#website',\n",
       " '#french',\n",
       " '#seo',\n",
       " '#small',\n",
       " '#php',\n",
       " '#engines',\n",
       " '#voila_fr',\n",
       " '#seo',\n",
       " '#google',\n",
       " '#wikipedia',\n",
       " '#msn',\n",
       " '#job',\n",
       " '#hiring',\n",
       " '#joomla',\n",
       " '#work',\n",
       " '#christian',\n",
       " '#guru',\n",
       " '#read',\n",
       " '#fulltime',\n",
       " '#needed',\n",
       " '#guru',\n",
       " '#job',\n",
       " '#hiring',\n",
       " '#complete',\n",
       " '#show',\n",
       " '#minutes',\n",
       " '#flash',\n",
       " '#story',\n",
       " '#version',\n",
       " '#animate',\n",
       " '#personal_demo',\n",
       " '#job',\n",
       " '#hiring',\n",
       " '#writers',\n",
       " '#bid',\n",
       " '#time',\n",
       " '#give',\n",
       " '#cannot',\n",
       " '#payment',\n",
       " '#language',\n",
       " '#native_english_speakers',\n",
       " '#job',\n",
       " '#hiring',\n",
       " '#joomla',\n",
       " '#expert',\n",
       " '#virtuemart',\n",
       " '#easy_job',\n",
       " '#job',\n",
       " '#hiring',\n",
       " '#job',\n",
       " '#per',\n",
       " '#writer',\n",
       " '#native',\n",
       " '#huge',\n",
       " '#english',\n",
       " '#english_writer',\n",
       " '#job',\n",
       " '#job',\n",
       " '#hiring',\n",
       " '#css',\n",
       " '#html',\n",
       " '#jpg',\n",
       " '#convert',\n",
       " '#sanjay20004',\n",
       " '#job',\n",
       " '#job',\n",
       " '#hiring',\n",
       " '#writing',\n",
       " '#lights',\n",
       " '#file',\n",
       " '#ufo',\n",
       " '#technical',\n",
       " '#differences',\n",
       " '#tech',\n",
       " '#jobs',\n",
       " '#hiring',\n",
       " '#graphic',\n",
       " '#size',\n",
       " '#needed',\n",
       " '#professional',\n",
       " '#illistrator',\n",
       " '#job',\n",
       " '#hiring',\n",
       " '#site',\n",
       " '#facebook',\n",
       " '#friends',\n",
       " '#winners',\n",
       " '#account',\n",
       " '#job',\n",
       " '#job',\n",
       " '#hiring',\n",
       " '#mail',\n",
       " '#optional',\n",
       " '#mysql',\n",
       " '#form',\n",
       " '#php',\n",
       " '#script',\n",
       " '#form_mail',\n",
       " '#jobs',\n",
       " '#hiring',\n",
       " '#bid',\n",
       " '#articles',\n",
       " '#usd',\n",
       " '#teams',\n",
       " '#bulk',\n",
       " '#individuals',\n",
       " '#job',\n",
       " '#job',\n",
       " '#hiring',\n",
       " '#mail',\n",
       " '#optional',\n",
       " '#form',\n",
       " '#mysql',\n",
       " '#php',\n",
       " '#scrip',\n",
       " '#form_mail',\n",
       " '#jobs',\n",
       " '#job',\n",
       " '#hiring',\n",
       " '#drupal',\n",
       " '#module',\n",
       " '#gmap',\n",
       " '#gmap_module',\n",
       " '#drupal_gmap',\n",
       " '#drupal_gmap_module',\n",
       " '#jobs',\n",
       " '#hiring',\n",
       " '#iphone',\n",
       " '#book',\n",
       " '#phone',\n",
       " '#reader',\n",
       " '#e_book_reader',\n",
       " '#iphone',\n",
       " '#e_books',\n",
       " '#job',\n",
       " '#hiring',\n",
       " '#report',\n",
       " '#correct',\n",
       " '#proofread',\n",
       " '#writing',\n",
       " '#necessary_experience',\n",
       " '#writer_editor',\n",
       " '#job',\n",
       " '#hiring',\n",
       " '#album',\n",
       " '#java',\n",
       " '#work',\n",
       " '#offline',\n",
       " '#user',\n",
       " '#application',\n",
       " '#based',\n",
       " '#photo_album',\n",
       " '#unix',\n",
       " '#job',\n",
       " '#hiring',\n",
       " '#customer',\n",
       " '#feedback',\n",
       " '#ebay',\n",
       " '#assistant',\n",
       " '#email',\n",
       " '#job',\n",
       " '#hiring',\n",
       " '#website',\n",
       " '#content',\n",
       " '#seo',\n",
       " '#amp',\n",
       " '#design',\n",
       " '#demo',\n",
       " '#import',\n",
       " '#lump_sum_payments',\n",
       " '#previous_project',\n",
       " '#job',\n",
       " '#hiring',\n",
       " '#links',\n",
       " '#looking',\n",
       " '#tirmizi',\n",
       " '#pr9',\n",
       " '#pr8',\n",
       " '#tirmizi',\n",
       " '#outbound_links',\n",
       " '#job',\n",
       " '#hiring',\n",
       " '#joomla',\n",
       " '#fix',\n",
       " '#language',\n",
       " '#language_problem',\n",
       " '#service_provider',\n",
       " '#job',\n",
       " '#job',\n",
       " '#hiring',\n",
       " '#articles',\n",
       " '#travel',\n",
       " '#short',\n",
       " '#bulk',\n",
       " '#articles_bulk',\n",
       " '#travel_articles',\n",
       " '#jobs',\n",
       " '#hiring',\n",
       " '#work',\n",
       " '#articles',\n",
       " '#writings',\n",
       " '#article',\n",
       " '#payment',\n",
       " '#job',\n",
       " '#job',\n",
       " '#hiring',\n",
       " '#list',\n",
       " '#script',\n",
       " '#port',\n",
       " '#check',\n",
       " '#tables',\n",
       " '#check_list',\n",
       " '#php_mysql_security',\n",
       " '#jobs',\n",
       " '#job',\n",
       " '#hiring',\n",
       " '#book',\n",
       " '#wrote',\n",
       " '#fast',\n",
       " '#pmb',\n",
       " '#made',\n",
       " '#that_you',\n",
       " '#and_that',\n",
       " '#jobs',\n",
       " '#hiring',\n",
       " '#remote',\n",
       " '#site',\n",
       " '#needs',\n",
       " '#website',\n",
       " '#support',\n",
       " '#working',\n",
       " '#att',\n",
       " '#payment_options',\n",
       " '#budget',\n",
       " '#job',\n",
       " '#hiring',\n",
       " '#com',\n",
       " '#mashable',\n",
       " '#share',\n",
       " '#facebook',\n",
       " '#wordpress',\n",
       " '#retweet',\n",
       " '#blogg',\n",
       " '#job',\n",
       " '#hiring',\n",
       " '#project',\n",
       " '#java',\n",
       " '#yezongbo',\n",
       " '#modify',\n",
       " '#private_project',\n",
       " '#job',\n",
       " '#hiring',\n",
       " '#articles',\n",
       " '#work',\n",
       " '#time',\n",
       " '#writer',\n",
       " '#native',\n",
       " '#review',\n",
       " '#content',\n",
       " '#native_writer',\n",
       " '#job',\n",
       " '#hiring',\n",
       " '#campaign',\n",
       " '#adwords',\n",
       " '#google',\n",
       " '#google',\n",
       " '#job',\n",
       " '#hiring',\n",
       " '#website',\n",
       " '#data',\n",
       " '#companys',\n",
       " '#information',\n",
       " '#collect',\n",
       " '#fax_email',\n",
       " '#escrow',\n",
       " '#job',\n",
       " '#hiring',\n",
       " '#website',\n",
       " '#integration',\n",
       " '#design',\n",
       " '#design_integration',\n",
       " '#vadim',\n",
       " '#job',\n",
       " '#job',\n",
       " '#hiring',\n",
       " '#order',\n",
       " '#online',\n",
       " '#pizza',\n",
       " '#products',\n",
       " '#pizza_online',\n",
       " '#online_order',\n",
       " '#can_add',\n",
       " '#jobs',\n",
       " '#hiring',\n",
       " '#gmails',\n",
       " '#locked',\n",
       " '#captcha',\n",
       " '#data',\n",
       " '#gmails',\n",
       " '#job',\n",
       " '#hiring',\n",
       " '#caricature',\n",
       " '#animation',\n",
       " '#video',\n",
       " '#intro',\n",
       " '#provided',\n",
       " '#project',\n",
       " '#work',\n",
       " '#dpi',\n",
       " '#job',\n",
       " '#hiring',\n",
       " '#design',\n",
       " '#web',\n",
       " '#project',\n",
       " '#designer',\n",
       " '#themes',\n",
       " '#dont',\n",
       " '#build',\n",
       " '#long_term_relationship',\n",
       " '#job',\n",
       " '#hiring',\n",
       " '#theme',\n",
       " '#wordpress',\n",
       " '#simple',\n",
       " '#provide',\n",
       " '#site',\n",
       " '#clear',\n",
       " '#amp',\n",
       " '#job',\n",
       " '#hiring',\n",
       " '#music',\n",
       " '#plugin',\n",
       " '#duplicates',\n",
       " '#python',\n",
       " '#library',\n",
       " '#songs',\n",
       " '#couple',\n",
       " '#flac',\n",
       " '#job',\n",
       " '#hiring',\n",
       " '#log',\n",
       " '#secure',\n",
       " '#project',\n",
       " '#private',\n",
       " '#private_project',\n",
       " '#job',\n",
       " '#job',\n",
       " '#hiring',\n",
       " '#simulator',\n",
       " '#processor',\n",
       " '#java',\n",
       " '#arm_processor',\n",
       " '#for_arm',\n",
       " '#simulator_for',\n",
       " '#jobs',\n",
       " '#hiring',\n",
       " '#client',\n",
       " '#software',\n",
       " '#crossloop',\n",
       " '#clone',\n",
       " '#vnc',\n",
       " '#reflector',\n",
       " '#server',\n",
       " '#job',\n",
       " '#hiring',\n",
       " '#joomla',\n",
       " '#template',\n",
       " '#psd',\n",
       " '#portfolio',\n",
       " '#outsource',\n",
       " '#working',\n",
       " '#web_design_company',\n",
       " '#psd',\n",
       " '#job',\n",
       " '#hiring',\n",
       " '#data',\n",
       " '#project',\n",
       " '#pvt',\n",
       " '#uday',\n",
       " '#project_detail',\n",
       " '#job',\n",
       " '#job',\n",
       " '#hiring',\n",
       " '#portal',\n",
       " '#employer',\n",
       " '#employer_portal',\n",
       " '#php_xhtml_msql',\n",
       " '#portal_javascript_joomla',\n",
       " '#jobs',\n",
       " '#job',\n",
       " '#hiring',\n",
       " '#clone',\n",
       " '#site',\n",
       " '#functions',\n",
       " '#modifications',\n",
       " '#freelancer',\n",
       " '#freelancer_clone',\n",
       " '#jobs',\n",
       " '#hiring',\n",
       " '#japanese',\n",
       " '#calligraphy',\n",
       " '#traditional',\n",
       " '#illustrator',\n",
       " '#design',\n",
       " '#japanese_name',\n",
       " '#job',\n",
       " '#hiring',\n",
       " '#joomla',\n",
       " '#work',\n",
       " '#christian',\n",
       " '#guru',\n",
       " '#read',\n",
       " '#messenger',\n",
       " '#yahoo',\n",
       " '#guru',\n",
       " '#job',\n",
       " '#job',\n",
       " '#hiring',\n",
       " '#german',\n",
       " '#projekts',\n",
       " '#german_projekts',\n",
       " '#php_xhtml_msql',\n",
       " '#projekts_java_joomla',\n",
       " '#jobs',\n",
       " '#job',\n",
       " '#hiring',\n",
       " '#website',\n",
       " '#media',\n",
       " '#design',\n",
       " '#photoshop',\n",
       " '#photoshop_design',\n",
       " '#media_website',\n",
       " '#jobs',\n",
       " '#hiring',\n",
       " '#stockmarket',\n",
       " '#programme',\n",
       " '#website',\n",
       " '#gaiming',\n",
       " '#com',\n",
       " ...]"
      ]
     },
     "execution_count": 11,
     "metadata": {},
     "output_type": "execute_result"
    }
   ],
   "source": [
    "data1 = data[data[\"user\"] == \"GetFreelanceJob\"]\n",
    "vals = data1[\"hashtag_list\"].values\n",
    "list_has = [val for sublist in vals for val in sublist]\n",
    "list_has"
   ]
  },
  {
   "cell_type": "code",
   "execution_count": 12,
   "metadata": {
    "collapsed": false
   },
   "outputs": [],
   "source": [
    "def get_hash(user_name, dataframe):\n",
    "    dataframe = dataframe[dataframe[\"user\"] == user_name]\n",
    "    hashtag_list = dataframe[\"hashtag_list\"].values\n",
    "    list_hash = [val for sublist in hashtag_list for val in sublist]\n",
    "    return list_hash"
   ]
  },
  {
   "cell_type": "code",
   "execution_count": 13,
   "metadata": {
    "collapsed": false
   },
   "outputs": [],
   "source": [
    "df[\"hashtags\"] = df.user.apply(lambda x: get_hash(x, data))"
   ]
  },
  {
   "cell_type": "code",
   "execution_count": 14,
   "metadata": {
    "collapsed": false
   },
   "outputs": [
    {
     "data": {
      "text/html": [
       "<div>\n",
       "<table border=\"1\" class=\"dataframe\">\n",
       "  <thead>\n",
       "    <tr style=\"text-align: right;\">\n",
       "      <th></th>\n",
       "      <th>user</th>\n",
       "      <th>hashtags</th>\n",
       "    </tr>\n",
       "  </thead>\n",
       "  <tbody>\n",
       "    <tr>\n",
       "      <th>1</th>\n",
       "      <td>webcom09</td>\n",
       "      <td>[#webcom08, #webcom08, #webcom08., #webcom08.,...</td>\n",
       "    </tr>\n",
       "    <tr>\n",
       "      <th>2</th>\n",
       "      <td>kirsn</td>\n",
       "      <td>[#cassandra, #BlackAlbum, #twitgin, #ubuntu, #...</td>\n",
       "    </tr>\n",
       "    <tr>\n",
       "      <th>3</th>\n",
       "      <td>mediahatch</td>\n",
       "      <td>[#pubcon, #pubcon, #pubcon, #pubcon, #pubcon, ...</td>\n",
       "    </tr>\n",
       "    <tr>\n",
       "      <th>4</th>\n",
       "      <td>Give_Respect</td>\n",
       "      <td>[#107, #108, #109, #110, #111, #112, #113, #11...</td>\n",
       "    </tr>\n",
       "    <tr>\n",
       "      <th>5</th>\n",
       "      <td>Nathan_Safran</td>\n",
       "      <td>[#2, #forrester]</td>\n",
       "    </tr>\n",
       "  </tbody>\n",
       "</table>\n",
       "</div>"
      ],
      "text/plain": [
       "            user                                           hashtags\n",
       "1       webcom09  [#webcom08, #webcom08, #webcom08., #webcom08.,...\n",
       "2          kirsn  [#cassandra, #BlackAlbum, #twitgin, #ubuntu, #...\n",
       "3     mediahatch  [#pubcon, #pubcon, #pubcon, #pubcon, #pubcon, ...\n",
       "4   Give_Respect  [#107, #108, #109, #110, #111, #112, #113, #11...\n",
       "5  Nathan_Safran                                   [#2, #forrester]"
      ]
     },
     "execution_count": 14,
     "metadata": {},
     "output_type": "execute_result"
    }
   ],
   "source": [
    "df.head()"
   ]
  },
  {
   "cell_type": "code",
   "execution_count": 15,
   "metadata": {
    "collapsed": false
   },
   "outputs": [],
   "source": [
    "# df.hashtags.values[0]"
   ]
  },
  {
   "cell_type": "code",
   "execution_count": 16,
   "metadata": {
    "collapsed": true
   },
   "outputs": [],
   "source": [
    "def entropy(counter_list):\n",
    "#     log2 = lambda x: math.log(x,2)\n",
    "    c = Counter(counter_list)\n",
    "    ent = 0.0\n",
    "    for k,v in c.items():\n",
    "        p = float(v)/len(counter_list)\n",
    "        ent = ent - p*math.log2(p)\n",
    "    return ent"
   ]
  },
  {
   "cell_type": "code",
   "execution_count": 17,
   "metadata": {
    "collapsed": false
   },
   "outputs": [],
   "source": [
    "df[\"user_entropy\"] = df.hashtags.apply(lambda x: entropy(x))"
   ]
  },
  {
   "cell_type": "code",
   "execution_count": 18,
   "metadata": {
    "collapsed": false
   },
   "outputs": [
    {
     "data": {
      "text/html": [
       "<div>\n",
       "<table border=\"1\" class=\"dataframe\">\n",
       "  <thead>\n",
       "    <tr style=\"text-align: right;\">\n",
       "      <th></th>\n",
       "      <th>user</th>\n",
       "      <th>hashtags</th>\n",
       "      <th>user_entropy</th>\n",
       "    </tr>\n",
       "  </thead>\n",
       "  <tbody>\n",
       "    <tr>\n",
       "      <th>1</th>\n",
       "      <td>webcom09</td>\n",
       "      <td>[#webcom08, #webcom08, #webcom08., #webcom08.,...</td>\n",
       "      <td>2.473682</td>\n",
       "    </tr>\n",
       "    <tr>\n",
       "      <th>2</th>\n",
       "      <td>kirsn</td>\n",
       "      <td>[#cassandra, #BlackAlbum, #twitgin, #ubuntu, #...</td>\n",
       "      <td>3.947703</td>\n",
       "    </tr>\n",
       "    <tr>\n",
       "      <th>3</th>\n",
       "      <td>mediahatch</td>\n",
       "      <td>[#pubcon, #pubcon, #pubcon, #pubcon, #pubcon, ...</td>\n",
       "      <td>1.148835</td>\n",
       "    </tr>\n",
       "    <tr>\n",
       "      <th>4</th>\n",
       "      <td>Give_Respect</td>\n",
       "      <td>[#107, #108, #109, #110, #111, #112, #113, #11...</td>\n",
       "      <td>3.467720</td>\n",
       "    </tr>\n",
       "    <tr>\n",
       "      <th>5</th>\n",
       "      <td>Nathan_Safran</td>\n",
       "      <td>[#2, #forrester]</td>\n",
       "      <td>1.000000</td>\n",
       "    </tr>\n",
       "  </tbody>\n",
       "</table>\n",
       "</div>"
      ],
      "text/plain": [
       "            user                                           hashtags  \\\n",
       "1       webcom09  [#webcom08, #webcom08, #webcom08., #webcom08.,...   \n",
       "2          kirsn  [#cassandra, #BlackAlbum, #twitgin, #ubuntu, #...   \n",
       "3     mediahatch  [#pubcon, #pubcon, #pubcon, #pubcon, #pubcon, ...   \n",
       "4   Give_Respect  [#107, #108, #109, #110, #111, #112, #113, #11...   \n",
       "5  Nathan_Safran                                   [#2, #forrester]   \n",
       "\n",
       "   user_entropy  \n",
       "1      2.473682  \n",
       "2      3.947703  \n",
       "3      1.148835  \n",
       "4      3.467720  \n",
       "5      1.000000  "
      ]
     },
     "execution_count": 18,
     "metadata": {},
     "output_type": "execute_result"
    }
   ],
   "source": [
    "df.head()"
   ]
  },
  {
   "cell_type": "code",
   "execution_count": 19,
   "metadata": {
    "collapsed": false
   },
   "outputs": [
    {
     "data": {
      "text/plain": [
       "2.05291473112788"
      ]
     },
     "execution_count": 19,
     "metadata": {},
     "output_type": "execute_result"
    }
   ],
   "source": [
    "df.user_entropy.mean()"
   ]
  },
  {
   "cell_type": "code",
   "execution_count": 20,
   "metadata": {
    "collapsed": true
   },
   "outputs": [],
   "source": [
    "# for bri \n",
    "# calc_sys_for_one_date(date):\n",
    "#    return sys ent\n",
    "# put it in an array "
   ]
  },
  {
   "cell_type": "code",
   "execution_count": 21,
   "metadata": {
    "collapsed": true
   },
   "outputs": [],
   "source": [
    "data[\"entropy\"] = data.hashtag_list.apply(lambda x: entropy(x))"
   ]
  },
  {
   "cell_type": "code",
   "execution_count": 22,
   "metadata": {
    "collapsed": false
   },
   "outputs": [
    {
     "data": {
      "text/html": [
       "<div>\n",
       "<table border=\"1\" class=\"dataframe\">\n",
       "  <thead>\n",
       "    <tr style=\"text-align: right;\">\n",
       "      <th></th>\n",
       "      <th>user</th>\n",
       "      <th>date</th>\n",
       "      <th>hashtag</th>\n",
       "      <th>hashtag_list</th>\n",
       "      <th>entropy</th>\n",
       "    </tr>\n",
       "  </thead>\n",
       "  <tbody>\n",
       "    <tr>\n",
       "      <th>0</th>\n",
       "      <td>webcom09</td>\n",
       "      <td>2008-11-11</td>\n",
       "      <td>#webcom08</td>\n",
       "      <td>[#webcom08]</td>\n",
       "      <td>0.0</td>\n",
       "    </tr>\n",
       "    <tr>\n",
       "      <th>1</th>\n",
       "      <td>kirsn</td>\n",
       "      <td>2008-11-11</td>\n",
       "      <td>#cassandra</td>\n",
       "      <td>[#cassandra]</td>\n",
       "      <td>0.0</td>\n",
       "    </tr>\n",
       "    <tr>\n",
       "      <th>2</th>\n",
       "      <td>mediahatch</td>\n",
       "      <td>2008-11-11</td>\n",
       "      <td>#pubcon</td>\n",
       "      <td>[#pubcon]</td>\n",
       "      <td>0.0</td>\n",
       "    </tr>\n",
       "    <tr>\n",
       "      <th>3</th>\n",
       "      <td>Give_Respect</td>\n",
       "      <td>2008-11-11</td>\n",
       "      <td>#107</td>\n",
       "      <td>[#107]</td>\n",
       "      <td>0.0</td>\n",
       "    </tr>\n",
       "    <tr>\n",
       "      <th>4</th>\n",
       "      <td>Nathan_Safran</td>\n",
       "      <td>2008-11-11</td>\n",
       "      <td>#2</td>\n",
       "      <td>[#2]</td>\n",
       "      <td>0.0</td>\n",
       "    </tr>\n",
       "  </tbody>\n",
       "</table>\n",
       "</div>"
      ],
      "text/plain": [
       "            user        date     hashtag  hashtag_list  entropy\n",
       "0       webcom09  2008-11-11   #webcom08   [#webcom08]      0.0\n",
       "1          kirsn  2008-11-11  #cassandra  [#cassandra]      0.0\n",
       "2     mediahatch  2008-11-11     #pubcon     [#pubcon]      0.0\n",
       "3   Give_Respect  2008-11-11        #107        [#107]      0.0\n",
       "4  Nathan_Safran  2008-11-11          #2          [#2]      0.0"
      ]
     },
     "execution_count": 22,
     "metadata": {},
     "output_type": "execute_result"
    }
   ],
   "source": [
    "data.head()"
   ]
  },
  {
   "cell_type": "code",
   "execution_count": 23,
   "metadata": {
    "collapsed": false
   },
   "outputs": [
    {
     "data": {
      "text/html": [
       "<div>\n",
       "<table border=\"1\" class=\"dataframe\">\n",
       "  <thead>\n",
       "    <tr style=\"text-align: right;\">\n",
       "      <th></th>\n",
       "      <th>entropy</th>\n",
       "    </tr>\n",
       "  </thead>\n",
       "  <tbody>\n",
       "    <tr>\n",
       "      <th>count</th>\n",
       "      <td>387.000000</td>\n",
       "    </tr>\n",
       "    <tr>\n",
       "      <th>mean</th>\n",
       "      <td>0.246706</td>\n",
       "    </tr>\n",
       "    <tr>\n",
       "      <th>std</th>\n",
       "      <td>0.183740</td>\n",
       "    </tr>\n",
       "    <tr>\n",
       "      <th>min</th>\n",
       "      <td>0.000000</td>\n",
       "    </tr>\n",
       "    <tr>\n",
       "      <th>25%</th>\n",
       "      <td>0.108384</td>\n",
       "    </tr>\n",
       "    <tr>\n",
       "      <th>50%</th>\n",
       "      <td>0.284510</td>\n",
       "    </tr>\n",
       "    <tr>\n",
       "      <th>75%</th>\n",
       "      <td>0.338709</td>\n",
       "    </tr>\n",
       "    <tr>\n",
       "      <th>max</th>\n",
       "      <td>1.584963</td>\n",
       "    </tr>\n",
       "  </tbody>\n",
       "</table>\n",
       "</div>"
      ],
      "text/plain": [
       "          entropy\n",
       "count  387.000000\n",
       "mean     0.246706\n",
       "std      0.183740\n",
       "min      0.000000\n",
       "25%      0.108384\n",
       "50%      0.284510\n",
       "75%      0.338709\n",
       "max      1.584963"
      ]
     },
     "execution_count": 23,
     "metadata": {},
     "output_type": "execute_result"
    }
   ],
   "source": [
    "grp = data.groupby([\"date\"]).entropy.mean()\n",
    "user_entropy_by_day = grp.to_frame()\n",
    "user_entropy_by_day.describe()"
   ]
  },
  {
   "cell_type": "code",
   "execution_count": 24,
   "metadata": {
    "collapsed": false
   },
   "outputs": [
    {
     "data": {
      "text/html": [
       "<div>\n",
       "<table border=\"1\" class=\"dataframe\">\n",
       "  <thead>\n",
       "    <tr style=\"text-align: right;\">\n",
       "      <th></th>\n",
       "      <th>user</th>\n",
       "      <th>hashtags</th>\n",
       "      <th>user_entropy</th>\n",
       "    </tr>\n",
       "  </thead>\n",
       "  <tbody>\n",
       "    <tr>\n",
       "      <th>1</th>\n",
       "      <td>webcom09</td>\n",
       "      <td>[#webcom08, #webcom08, #webcom08., #webcom08.,...</td>\n",
       "      <td>2.473682</td>\n",
       "    </tr>\n",
       "    <tr>\n",
       "      <th>2</th>\n",
       "      <td>kirsn</td>\n",
       "      <td>[#cassandra, #BlackAlbum, #twitgin, #ubuntu, #...</td>\n",
       "      <td>3.947703</td>\n",
       "    </tr>\n",
       "    <tr>\n",
       "      <th>3</th>\n",
       "      <td>mediahatch</td>\n",
       "      <td>[#pubcon, #pubcon, #pubcon, #pubcon, #pubcon, ...</td>\n",
       "      <td>1.148835</td>\n",
       "    </tr>\n",
       "    <tr>\n",
       "      <th>4</th>\n",
       "      <td>Give_Respect</td>\n",
       "      <td>[#107, #108, #109, #110, #111, #112, #113, #11...</td>\n",
       "      <td>3.467720</td>\n",
       "    </tr>\n",
       "    <tr>\n",
       "      <th>5</th>\n",
       "      <td>Nathan_Safran</td>\n",
       "      <td>[#2, #forrester]</td>\n",
       "      <td>1.000000</td>\n",
       "    </tr>\n",
       "  </tbody>\n",
       "</table>\n",
       "</div>"
      ],
      "text/plain": [
       "            user                                           hashtags  \\\n",
       "1       webcom09  [#webcom08, #webcom08, #webcom08., #webcom08.,...   \n",
       "2          kirsn  [#cassandra, #BlackAlbum, #twitgin, #ubuntu, #...   \n",
       "3     mediahatch  [#pubcon, #pubcon, #pubcon, #pubcon, #pubcon, ...   \n",
       "4   Give_Respect  [#107, #108, #109, #110, #111, #112, #113, #11...   \n",
       "5  Nathan_Safran                                   [#2, #forrester]   \n",
       "\n",
       "   user_entropy  \n",
       "1      2.473682  \n",
       "2      3.947703  \n",
       "3      1.148835  \n",
       "4      3.467720  \n",
       "5      1.000000  "
      ]
     },
     "execution_count": 24,
     "metadata": {},
     "output_type": "execute_result"
    }
   ],
   "source": [
    "df.head()"
   ]
  },
  {
   "cell_type": "code",
   "execution_count": 25,
   "metadata": {
    "collapsed": false
   },
   "outputs": [],
   "source": [
    "df2 = pd.DataFrame(dates, index=index2, columns=['date'])"
   ]
  },
  {
   "cell_type": "code",
   "execution_count": 26,
   "metadata": {
    "collapsed": false
   },
   "outputs": [
    {
     "data": {
      "text/html": [
       "<div>\n",
       "<table border=\"1\" class=\"dataframe\">\n",
       "  <thead>\n",
       "    <tr style=\"text-align: right;\">\n",
       "      <th></th>\n",
       "      <th>date</th>\n",
       "    </tr>\n",
       "  </thead>\n",
       "  <tbody>\n",
       "    <tr>\n",
       "      <th>1</th>\n",
       "      <td>2008-11-11</td>\n",
       "    </tr>\n",
       "    <tr>\n",
       "      <th>2</th>\n",
       "      <td>2008-11-12</td>\n",
       "    </tr>\n",
       "    <tr>\n",
       "      <th>3</th>\n",
       "      <td>2008-11-13</td>\n",
       "    </tr>\n",
       "    <tr>\n",
       "      <th>4</th>\n",
       "      <td>2008-11-14</td>\n",
       "    </tr>\n",
       "    <tr>\n",
       "      <th>5</th>\n",
       "      <td>2008-11-15</td>\n",
       "    </tr>\n",
       "  </tbody>\n",
       "</table>\n",
       "</div>"
      ],
      "text/plain": [
       "         date\n",
       "1  2008-11-11\n",
       "2  2008-11-12\n",
       "3  2008-11-13\n",
       "4  2008-11-14\n",
       "5  2008-11-15"
      ]
     },
     "execution_count": 26,
     "metadata": {},
     "output_type": "execute_result"
    }
   ],
   "source": [
    "df2.head()"
   ]
  },
  {
   "cell_type": "code",
   "execution_count": 27,
   "metadata": {
    "collapsed": true
   },
   "outputs": [],
   "source": [
    "def get_hash_date(date, dataframe):\n",
    "    dataframe = dataframe[dataframe[\"date\"] == date]\n",
    "    hashtag_list = dataframe[\"hashtag_list\"].values\n",
    "    list_hash = [val for sublist in hashtag_list for val in sublist]\n",
    "    return list_hash"
   ]
  },
  {
   "cell_type": "code",
   "execution_count": 28,
   "metadata": {
    "collapsed": true
   },
   "outputs": [],
   "source": [
    "df2[\"hashtags\"] = df2.date.apply(lambda x: get_hash_date(x, data))"
   ]
  },
  {
   "cell_type": "code",
   "execution_count": 29,
   "metadata": {
    "collapsed": false
   },
   "outputs": [
    {
     "data": {
      "text/html": [
       "<div>\n",
       "<table border=\"1\" class=\"dataframe\">\n",
       "  <thead>\n",
       "    <tr style=\"text-align: right;\">\n",
       "      <th></th>\n",
       "      <th>date</th>\n",
       "      <th>hashtags</th>\n",
       "    </tr>\n",
       "  </thead>\n",
       "  <tbody>\n",
       "    <tr>\n",
       "      <th>1</th>\n",
       "      <td>2008-11-11</td>\n",
       "      <td>[#webcom08, #cassandra, #pubcon, #107, #2, #pu...</td>\n",
       "    </tr>\n",
       "    <tr>\n",
       "      <th>2</th>\n",
       "      <td>2008-11-12</td>\n",
       "      <td>[#gno, #gno, #gno, #gno, #gno, #gno, #gno, #gn...</td>\n",
       "    </tr>\n",
       "    <tr>\n",
       "      <th>3</th>\n",
       "      <td>2008-11-13</td>\n",
       "      <td>[#barcampsydney, #ActiveVC, #22, #1:, #2:, #st...</td>\n",
       "    </tr>\n",
       "    <tr>\n",
       "      <th>4</th>\n",
       "      <td>2008-11-14</td>\n",
       "      <td>[#barcampsydney, #WoW, #barcampsydney4, #start...</td>\n",
       "    </tr>\n",
       "    <tr>\n",
       "      <th>5</th>\n",
       "      <td>2008-11-15</td>\n",
       "      <td>[#bcs4,, #sfgreenfest, #mashupcamp, #bcs4, #bc...</td>\n",
       "    </tr>\n",
       "  </tbody>\n",
       "</table>\n",
       "</div>"
      ],
      "text/plain": [
       "         date                                           hashtags\n",
       "1  2008-11-11  [#webcom08, #cassandra, #pubcon, #107, #2, #pu...\n",
       "2  2008-11-12  [#gno, #gno, #gno, #gno, #gno, #gno, #gno, #gn...\n",
       "3  2008-11-13  [#barcampsydney, #ActiveVC, #22, #1:, #2:, #st...\n",
       "4  2008-11-14  [#barcampsydney, #WoW, #barcampsydney4, #start...\n",
       "5  2008-11-15  [#bcs4,, #sfgreenfest, #mashupcamp, #bcs4, #bc..."
      ]
     },
     "execution_count": 29,
     "metadata": {},
     "output_type": "execute_result"
    }
   ],
   "source": [
    "df2.head()"
   ]
  },
  {
   "cell_type": "code",
   "execution_count": 30,
   "metadata": {
    "collapsed": true
   },
   "outputs": [],
   "source": [
    "df2[\"sys_entropy\"] = df2.hashtags.apply(lambda x: entropy(x))"
   ]
  },
  {
   "cell_type": "code",
   "execution_count": 31,
   "metadata": {
    "collapsed": false
   },
   "outputs": [
    {
     "data": {
      "text/html": [
       "<div>\n",
       "<table border=\"1\" class=\"dataframe\">\n",
       "  <thead>\n",
       "    <tr style=\"text-align: right;\">\n",
       "      <th></th>\n",
       "      <th>sys_entropy</th>\n",
       "    </tr>\n",
       "  </thead>\n",
       "  <tbody>\n",
       "    <tr>\n",
       "      <th>count</th>\n",
       "      <td>387.000000</td>\n",
       "    </tr>\n",
       "    <tr>\n",
       "      <th>mean</th>\n",
       "      <td>7.001573</td>\n",
       "    </tr>\n",
       "    <tr>\n",
       "      <th>std</th>\n",
       "      <td>3.493284</td>\n",
       "    </tr>\n",
       "    <tr>\n",
       "      <th>min</th>\n",
       "      <td>0.000000</td>\n",
       "    </tr>\n",
       "    <tr>\n",
       "      <th>25%</th>\n",
       "      <td>4.483394</td>\n",
       "    </tr>\n",
       "    <tr>\n",
       "      <th>50%</th>\n",
       "      <td>8.215134</td>\n",
       "    </tr>\n",
       "    <tr>\n",
       "      <th>75%</th>\n",
       "      <td>9.757742</td>\n",
       "    </tr>\n",
       "    <tr>\n",
       "      <th>max</th>\n",
       "      <td>11.887364</td>\n",
       "    </tr>\n",
       "  </tbody>\n",
       "</table>\n",
       "</div>"
      ],
      "text/plain": [
       "       sys_entropy\n",
       "count   387.000000\n",
       "mean      7.001573\n",
       "std       3.493284\n",
       "min       0.000000\n",
       "25%       4.483394\n",
       "50%       8.215134\n",
       "75%       9.757742\n",
       "max      11.887364"
      ]
     },
     "execution_count": 31,
     "metadata": {},
     "output_type": "execute_result"
    }
   ],
   "source": [
    "df2.describe()"
   ]
  },
  {
   "cell_type": "code",
   "execution_count": 32,
   "metadata": {
    "collapsed": false
   },
   "outputs": [
    {
     "data": {
      "text/html": [
       "<div>\n",
       "<table border=\"1\" class=\"dataframe\">\n",
       "  <thead>\n",
       "    <tr style=\"text-align: right;\">\n",
       "      <th></th>\n",
       "      <th>entropy</th>\n",
       "    </tr>\n",
       "    <tr>\n",
       "      <th>date</th>\n",
       "      <th></th>\n",
       "    </tr>\n",
       "  </thead>\n",
       "  <tbody>\n",
       "    <tr>\n",
       "      <th>2007-04-03</th>\n",
       "      <td>0.0</td>\n",
       "    </tr>\n",
       "    <tr>\n",
       "      <th>2007-04-13</th>\n",
       "      <td>0.0</td>\n",
       "    </tr>\n",
       "    <tr>\n",
       "      <th>2007-06-26</th>\n",
       "      <td>0.0</td>\n",
       "    </tr>\n",
       "    <tr>\n",
       "      <th>2007-07-14</th>\n",
       "      <td>1.0</td>\n",
       "    </tr>\n",
       "    <tr>\n",
       "      <th>2007-07-25</th>\n",
       "      <td>0.0</td>\n",
       "    </tr>\n",
       "  </tbody>\n",
       "</table>\n",
       "</div>"
      ],
      "text/plain": [
       "            entropy\n",
       "date               \n",
       "2007-04-03      0.0\n",
       "2007-04-13      0.0\n",
       "2007-06-26      0.0\n",
       "2007-07-14      1.0\n",
       "2007-07-25      0.0"
      ]
     },
     "execution_count": 32,
     "metadata": {},
     "output_type": "execute_result"
    }
   ],
   "source": [
    "user_entropy_by_day.head()"
   ]
  },
  {
   "cell_type": "code",
   "execution_count": 33,
   "metadata": {
    "collapsed": false
   },
   "outputs": [
    {
     "data": {
      "text/html": [
       "<div>\n",
       "<table border=\"1\" class=\"dataframe\">\n",
       "  <thead>\n",
       "    <tr style=\"text-align: right;\">\n",
       "      <th></th>\n",
       "      <th>date</th>\n",
       "      <th>hashtags</th>\n",
       "      <th>sys_entropy</th>\n",
       "    </tr>\n",
       "  </thead>\n",
       "  <tbody>\n",
       "    <tr>\n",
       "      <th>1</th>\n",
       "      <td>2008-11-11</td>\n",
       "      <td>[#webcom08, #cassandra, #pubcon, #107, #2, #pu...</td>\n",
       "      <td>2.866248</td>\n",
       "    </tr>\n",
       "    <tr>\n",
       "      <th>2</th>\n",
       "      <td>2008-11-12</td>\n",
       "      <td>[#gno, #gno, #gno, #gno, #gno, #gno, #gno, #gn...</td>\n",
       "      <td>3.050780</td>\n",
       "    </tr>\n",
       "    <tr>\n",
       "      <th>3</th>\n",
       "      <td>2008-11-13</td>\n",
       "      <td>[#barcampsydney, #ActiveVC, #22, #1:, #2:, #st...</td>\n",
       "      <td>3.710738</td>\n",
       "    </tr>\n",
       "    <tr>\n",
       "      <th>4</th>\n",
       "      <td>2008-11-14</td>\n",
       "      <td>[#barcampsydney, #WoW, #barcampsydney4, #start...</td>\n",
       "      <td>4.414994</td>\n",
       "    </tr>\n",
       "    <tr>\n",
       "      <th>5</th>\n",
       "      <td>2008-11-15</td>\n",
       "      <td>[#bcs4,, #sfgreenfest, #mashupcamp, #bcs4, #bc...</td>\n",
       "      <td>2.897271</td>\n",
       "    </tr>\n",
       "  </tbody>\n",
       "</table>\n",
       "</div>"
      ],
      "text/plain": [
       "         date                                           hashtags  sys_entropy\n",
       "1  2008-11-11  [#webcom08, #cassandra, #pubcon, #107, #2, #pu...     2.866248\n",
       "2  2008-11-12  [#gno, #gno, #gno, #gno, #gno, #gno, #gno, #gn...     3.050780\n",
       "3  2008-11-13  [#barcampsydney, #ActiveVC, #22, #1:, #2:, #st...     3.710738\n",
       "4  2008-11-14  [#barcampsydney, #WoW, #barcampsydney4, #start...     4.414994\n",
       "5  2008-11-15  [#bcs4,, #sfgreenfest, #mashupcamp, #bcs4, #bc...     2.897271"
      ]
     },
     "execution_count": 33,
     "metadata": {},
     "output_type": "execute_result"
    }
   ],
   "source": [
    "df2.head()"
   ]
  },
  {
   "cell_type": "code",
   "execution_count": 34,
   "metadata": {
    "collapsed": false
   },
   "outputs": [],
   "source": [
    "user_entropy_by_day['date'] = user_entropy_by_day.index"
   ]
  },
  {
   "cell_type": "code",
   "execution_count": 35,
   "metadata": {
    "collapsed": false
   },
   "outputs": [
    {
     "name": "stdout",
     "output_type": "stream",
     "text": [
      "387\n",
      "387\n"
     ]
    }
   ],
   "source": [
    "print(len(user_entropy_by_day))\n",
    "print(len(df2))"
   ]
  },
  {
   "cell_type": "code",
   "execution_count": 36,
   "metadata": {
    "collapsed": false
   },
   "outputs": [
    {
     "data": {
      "text/plain": [
       "387"
      ]
     },
     "execution_count": 36,
     "metadata": {},
     "output_type": "execute_result"
    }
   ],
   "source": [
    "entropy_df = pd.merge(df2, user_entropy_by_day, on='date', how='outer')\n",
    "len(entropy_df)"
   ]
  },
  {
   "cell_type": "code",
   "execution_count": 37,
   "metadata": {
    "collapsed": false
   },
   "outputs": [
    {
     "data": {
      "text/html": [
       "<div>\n",
       "<table border=\"1\" class=\"dataframe\">\n",
       "  <thead>\n",
       "    <tr style=\"text-align: right;\">\n",
       "      <th></th>\n",
       "      <th>date</th>\n",
       "      <th>hashtags</th>\n",
       "      <th>sys_entropy</th>\n",
       "      <th>entropy</th>\n",
       "    </tr>\n",
       "  </thead>\n",
       "  <tbody>\n",
       "    <tr>\n",
       "      <th>0</th>\n",
       "      <td>2008-11-11</td>\n",
       "      <td>[#webcom08, #cassandra, #pubcon, #107, #2, #pu...</td>\n",
       "      <td>2.866248</td>\n",
       "      <td>0.000000</td>\n",
       "    </tr>\n",
       "    <tr>\n",
       "      <th>1</th>\n",
       "      <td>2008-11-12</td>\n",
       "      <td>[#gno, #gno, #gno, #gno, #gno, #gno, #gno, #gn...</td>\n",
       "      <td>3.050780</td>\n",
       "      <td>0.000000</td>\n",
       "    </tr>\n",
       "    <tr>\n",
       "      <th>2</th>\n",
       "      <td>2008-11-13</td>\n",
       "      <td>[#barcampsydney, #ActiveVC, #22, #1:, #2:, #st...</td>\n",
       "      <td>3.710738</td>\n",
       "      <td>0.000000</td>\n",
       "    </tr>\n",
       "    <tr>\n",
       "      <th>3</th>\n",
       "      <td>2008-11-14</td>\n",
       "      <td>[#barcampsydney, #WoW, #barcampsydney4, #start...</td>\n",
       "      <td>4.414994</td>\n",
       "      <td>0.044027</td>\n",
       "    </tr>\n",
       "    <tr>\n",
       "      <th>4</th>\n",
       "      <td>2008-11-15</td>\n",
       "      <td>[#bcs4,, #sfgreenfest, #mashupcamp, #bcs4, #bc...</td>\n",
       "      <td>2.897271</td>\n",
       "      <td>0.035714</td>\n",
       "    </tr>\n",
       "  </tbody>\n",
       "</table>\n",
       "</div>"
      ],
      "text/plain": [
       "         date                                           hashtags  sys_entropy  \\\n",
       "0  2008-11-11  [#webcom08, #cassandra, #pubcon, #107, #2, #pu...     2.866248   \n",
       "1  2008-11-12  [#gno, #gno, #gno, #gno, #gno, #gno, #gno, #gn...     3.050780   \n",
       "2  2008-11-13  [#barcampsydney, #ActiveVC, #22, #1:, #2:, #st...     3.710738   \n",
       "3  2008-11-14  [#barcampsydney, #WoW, #barcampsydney4, #start...     4.414994   \n",
       "4  2008-11-15  [#bcs4,, #sfgreenfest, #mashupcamp, #bcs4, #bc...     2.897271   \n",
       "\n",
       "    entropy  \n",
       "0  0.000000  \n",
       "1  0.000000  \n",
       "2  0.000000  \n",
       "3  0.044027  \n",
       "4  0.035714  "
      ]
     },
     "execution_count": 37,
     "metadata": {},
     "output_type": "execute_result"
    }
   ],
   "source": [
    "entropy_df.head()"
   ]
  },
  {
   "cell_type": "code",
   "execution_count": 38,
   "metadata": {
    "collapsed": false
   },
   "outputs": [
    {
     "data": {
      "text/html": [
       "<div>\n",
       "<table border=\"1\" class=\"dataframe\">\n",
       "  <thead>\n",
       "    <tr style=\"text-align: right;\">\n",
       "      <th></th>\n",
       "      <th>date</th>\n",
       "      <th>hashtags</th>\n",
       "      <th>sys_entropy</th>\n",
       "      <th>entropy</th>\n",
       "    </tr>\n",
       "  </thead>\n",
       "  <tbody>\n",
       "    <tr>\n",
       "      <th>292</th>\n",
       "      <td>2007-10-03</td>\n",
       "      <td>[#OAuth!!!]</td>\n",
       "      <td>0.0</td>\n",
       "      <td>0.0</td>\n",
       "    </tr>\n",
       "    <tr>\n",
       "      <th>287</th>\n",
       "      <td>2007-10-01</td>\n",
       "      <td>[#1]</td>\n",
       "      <td>0.0</td>\n",
       "      <td>0.0</td>\n",
       "    </tr>\n",
       "    <tr>\n",
       "      <th>289</th>\n",
       "      <td>2007-10-02</td>\n",
       "      <td>[#\\]</td>\n",
       "      <td>0.0</td>\n",
       "      <td>0.0</td>\n",
       "    </tr>\n",
       "    <tr>\n",
       "      <th>294</th>\n",
       "      <td>2007-10-04</td>\n",
       "      <td>[#18:]</td>\n",
       "      <td>0.0</td>\n",
       "      <td>0.0</td>\n",
       "    </tr>\n",
       "    <tr>\n",
       "      <th>295</th>\n",
       "      <td>2007-10-05</td>\n",
       "      <td>[#OAuth]</td>\n",
       "      <td>0.0</td>\n",
       "      <td>0.0</td>\n",
       "    </tr>\n",
       "  </tbody>\n",
       "</table>\n",
       "</div>"
      ],
      "text/plain": [
       "           date     hashtags  sys_entropy  entropy\n",
       "292  2007-10-03  [#OAuth!!!]          0.0      0.0\n",
       "287  2007-10-01         [#1]          0.0      0.0\n",
       "289  2007-10-02         [#\\]          0.0      0.0\n",
       "294  2007-10-04       [#18:]          0.0      0.0\n",
       "295  2007-10-05     [#OAuth]          0.0      0.0"
      ]
     },
     "execution_count": 38,
     "metadata": {},
     "output_type": "execute_result"
    }
   ],
   "source": [
    "ranked = entropy_df.sort_values(by=\"sys_entropy\")\n",
    "ranked.head()"
   ]
  },
  {
   "cell_type": "code",
   "execution_count": 39,
   "metadata": {
    "collapsed": false
   },
   "outputs": [
    {
     "data": {
      "image/png": "[encoded data removed]",
      "text/plain": [
       "<matplotlib.figure.Figure at 0x21f8299c860>"
      ]
     },
     "metadata": {},
     "output_type": "display_data"
    }
   ],
   "source": [
    "import matplotlib.pyplot as plt\n",
    "length=len(ranked)\n",
    "x = [x for x in range(0,length)]\n",
    "plt.title(\"Sorted System Entropy and user Entropy (Average) per day\")\n",
    "plt.xticks(np.arange(0,max(x),40))\n",
    "plt.yticks(range(0,int(max(ranked.sys_entropy)+2)))\n",
    "plt.xlabel(\"Days Rank (based on System Entropy)\")\n",
    "plt.ylabel(\"Entropy\")\n",
    "plt.plot(x,ranked.entropy.values,label='User Entropy',color=\"r\")\n",
    "plt.plot(x,ranked.sys_entropy.values,label='System Entropy',color=\"b\")\n",
    "# plt.legend(loc=2)\n",
    "plt.show()"
   ]
  },
  {
   "cell_type": "markdown",
   "metadata": {},
   "source": [
    "## 2. Measuring inequality"
   ]
  },
  {
   "cell_type": "code",
   "execution_count": 40,
   "metadata": {
    "collapsed": false
   },
   "outputs": [
    {
     "ename": "ImportError",
     "evalue": "No module named 'chinese_restaurant'",
     "output_type": "error",
     "traceback": [
      "\u001b[0;31m---------------------------------------------------------------------------\u001b[0m",
      "\u001b[0;31mImportError\u001b[0m                               Traceback (most recent call last)",
      "\u001b[0;32m<ipython-input-40-77d58f098813>\u001b[0m in \u001b[0;36m<module>\u001b[0;34m()\u001b[0m\n\u001b[0;32m----> 1\u001b[0;31m \u001b[1;32mfrom\u001b[0m \u001b[0mchinese_restaurant\u001b[0m \u001b[1;32mimport\u001b[0m \u001b[0mgenerateChineseRestaurant\u001b[0m \u001b[1;32mas\u001b[0m \u001b[0mchineseRes\u001b[0m\u001b[1;33m\u001b[0m\u001b[0m\n\u001b[0m\u001b[1;32m      2\u001b[0m \u001b[1;33m\u001b[0m\u001b[0m\n\u001b[1;32m      3\u001b[0m \u001b[0mcustomers\u001b[0m \u001b[1;33m=\u001b[0m \u001b[1;36m1000\u001b[0m\u001b[1;33m\u001b[0m\u001b[0m\n\u001b[1;32m      4\u001b[0m \u001b[1;32mfor\u001b[0m \u001b[0mi\u001b[0m \u001b[1;32min\u001b[0m \u001b[0mrange\u001b[0m\u001b[1;33m(\u001b[0m\u001b[1;36m0\u001b[0m\u001b[1;33m,\u001b[0m\u001b[1;36m5\u001b[0m\u001b[1;33m)\u001b[0m\u001b[1;33m:\u001b[0m\u001b[1;33m\u001b[0m\u001b[0m\n\u001b[1;32m      5\u001b[0m     \u001b[0mtables\u001b[0m\u001b[1;33m,\u001b[0m \u001b[0mginis\u001b[0m \u001b[1;33m=\u001b[0m \u001b[0mchineseRes\u001b[0m\u001b[1;33m(\u001b[0m\u001b[0mcustomers\u001b[0m\u001b[1;33m)\u001b[0m\u001b[1;33m\u001b[0m\u001b[0m\n",
      "\u001b[0;31mImportError\u001b[0m: No module named 'chinese_restaurant'"
     ]
    }
   ],
   "source": [
    "from chinese_restaurant import generateChineseRestaurant as chineseRes\n",
    "\n",
    "customers = 1000\n",
    "for i in range(0,5):\n",
    "    tables, ginis = chineseRes(customers)\n",
    "    plt.plot(ginis)\n",
    "plt.show()"
   ]
  },
  {
   "cell_type": "markdown",
   "metadata": {
    "collapsed": true
   },
   "source": [
    "# 3. Herding"
   ]
  },
  {
   "cell_type": "markdown",
   "metadata": {},
   "source": [
    "# Part 1 - First estimations"
   ]
  },
  {
   "cell_type": "code",
   "execution_count": null,
   "metadata": {
    "collapsed": true
   },
   "outputs": [],
   "source": [
    "estimations = pd.DataFrame({\n",
    "        \"fortress\":[90,250,375],\n",
    "        \"fortress_args\":[\"..\",\"..\",\"..\"],\n",
    "        \"tower\":[250,400,300],\n",
    "        \"tower_args\":[\"..\",\"..\",\"..\"]\n",
    "    })"
   ]
  },
  {
   "cell_type": "code",
   "execution_count": null,
   "metadata": {
    "collapsed": false
   },
   "outputs": [],
   "source": [
    "print(\"mean: \",estimations.fortress.mean())\n",
    "print(\"std: \",estimations.fortress.std())\n",
    "print(\"var: \",estimations.fortress.std()**2)"
   ]
  },
  {
   "cell_type": "code",
   "execution_count": null,
   "metadata": {
    "collapsed": false
   },
   "outputs": [],
   "source": [
    "print(\"mean: \",estimations.tower.mean())\n",
    "print(\"std: \",estimations.tower.std())\n",
    "print(\"var: \",estimations.tower.std()**2)"
   ]
  },
  {
   "cell_type": "markdown",
   "metadata": {},
   "source": [
    "# Part 2 - After discussion"
   ]
  },
  {
   "cell_type": "code",
   "execution_count": null,
   "metadata": {
    "collapsed": true
   },
   "outputs": [],
   "source": [
    "estimations = pd.DataFrame({\n",
    "        \"fortress\":[45,75,350],\n",
    "        \"tower\":[250,200,450],\n",
    "    })"
   ]
  },
  {
   "cell_type": "code",
   "execution_count": null,
   "metadata": {
    "collapsed": false
   },
   "outputs": [],
   "source": [
    "print(\"mean: \",estimations.fortress.mean())\n",
    "print(\"std: \",estimations.fortress.std())\n",
    "print(\"var: \",estimations.fortress.std()**2)"
   ]
  },
  {
   "cell_type": "code",
   "execution_count": null,
   "metadata": {
    "collapsed": false
   },
   "outputs": [],
   "source": [
    "print(\"mean: \",estimations.tower.mean())\n",
    "print(\"std: \",estimations.tower.std())\n",
    "print(\"var: \",estimations.tower.std()**2)"
   ]
  },
  {
   "cell_type": "code",
   "execution_count": null,
   "metadata": {
    "collapsed": true
   },
   "outputs": [],
   "source": []
  }
 ],
 "metadata": {
  "anaconda-cloud": {},
  "kernelspec": {
   "display_name": "Python [conda root]",
   "language": "python",
   "name": "conda-root-py"
  },
  "language_info": {
   "codemirror_mode": {
    "name": "ipython",
    "version": 3
   },
   "file_extension": ".py",
   "mimetype": "text/x-python",
   "name": "python",
   "nbconvert_exporter": "python",
   "pygments_lexer": "ipython3",
   "version": "3.5.2"
  }
 },
 "nbformat": 4,
 "nbformat_minor": 1
}
