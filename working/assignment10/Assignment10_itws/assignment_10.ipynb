{
 "cells": [
  {
   "cell_type": "code",
   "execution_count": 1,
   "metadata": {
    "collapsed": true
   },
   "outputs": [],
   "source": [
    "import numpy as np\n",
    "import pandas as pd\n",
    "from collections import Counter\n",
    "import math\n",
    "import matplotlib.pyplot as plt\n"
   ]
  },
  {
   "cell_type": "code",
   "execution_count": 2,
   "metadata": {
    "collapsed": false
   },
   "outputs": [],
   "source": [
    "data = pd.read_table('onlyhash.data',names=[\"user_name\",\"date\",\"hashtag\"])"
   ]
  },
  {
   "cell_type": "code",
   "execution_count": 3,
   "metadata": {
    "collapsed": false
   },
   "outputs": [],
   "source": [
    "data[\"hashtag_list\"] = data.hashtag.apply(lambda x: x.split(\" \"))"
   ]
  },
  {
   "cell_type": "code",
   "execution_count": 4,
   "metadata": {
    "collapsed": false
   },
   "outputs": [],
   "source": [
    "users = data.user_name.unique()\n",
    "index = [i for i in range(1, len(users)+1)]\n",
    "\n",
    "dates = data.date.unique()\n",
    "index2 = [i for i in range(1, len(dates)+1)]"
   ]
  },
  {
   "cell_type": "code",
   "execution_count": 5,
   "metadata": {
    "collapsed": false
   },
   "outputs": [],
   "source": [
    "df = pd.DataFrame(users, index=index, columns=['user'])"
   ]
  },
  {
   "cell_type": "code",
   "execution_count": 10,
   "metadata": {
    "collapsed": false
   },
   "outputs": [],
   "source": [
    "def get_hash(user_name, dataframe):\n",
    "    dataframe = dataframe[dataframe[\"user_name\"] == user_name]\n",
    "    hashtag_list = dataframe[\"hashtag_list\"].values\n",
    "    hashtag_list = [value for sublist in hashtag_list for value in sublist]\n",
    "    return hashtag_list"
   ]
  },
  {
   "cell_type": "code",
   "execution_count": 11,
   "metadata": {
    "collapsed": false
   },
   "outputs": [],
   "source": [
    "df[\"hashtags\"] = df.user.apply(lambda x: get_hash(x, data))"
   ]
  },
  {
   "cell_type": "code",
   "execution_count": 14,
   "metadata": {
    "collapsed": true
   },
   "outputs": [],
   "source": [
    "def entropy(counter_list):\n",
    "    c = Counter(counter_list)\n",
    "    ent = 0.0\n",
    "    for k,v in c.items():\n",
    "        prob = float(v)/len(counter_list)\n",
    "        ent = ent - prob * math.log2(prob)\n",
    "    return ent"
   ]
  },
  {
   "cell_type": "code",
   "execution_count": 15,
   "metadata": {
    "collapsed": false
   },
   "outputs": [],
   "source": [
    "df[\"user_entropy\"] = df.hashtags.apply(lambda x: entropy(x))"
   ]
  },
  {
   "cell_type": "code",
   "execution_count": 16,
   "metadata": {
    "collapsed": true
   },
   "outputs": [],
   "source": [
    "data[\"entropy\"] = data.hashtag_list.apply(lambda x: entropy(x))"
   ]
  },
  {
   "cell_type": "code",
   "execution_count": 17,
   "metadata": {
    "collapsed": false
   },
   "outputs": [],
   "source": [
    "grp = data.groupby([\"date\"]).entropy.mean()\n",
    "user_entropy_by_day = grp.to_frame()"
   ]
  },
  {
   "cell_type": "code",
   "execution_count": 18,
   "metadata": {
    "collapsed": false
   },
   "outputs": [],
   "source": [
    "df2 = pd.DataFrame(dates, index=index2, columns=['date'])"
   ]
  },
  {
   "cell_type": "code",
   "execution_count": 19,
   "metadata": {
    "collapsed": true
   },
   "outputs": [],
   "source": [
    "def get_hash_date(date, dataframe):\n",
    "    dataframe = dataframe[dataframe[\"date\"] == date]\n",
    "    hashtag_list = dataframe[\"hashtag_list\"].values\n",
    "    list_hash = [val for sublist in hashtag_list for val in sublist]\n",
    "    return list_hash"
   ]
  },
  {
   "cell_type": "code",
   "execution_count": 20,
   "metadata": {
    "collapsed": true
   },
   "outputs": [],
   "source": [
    "df2[\"hashtags\"] = df2.date.apply(lambda x: get_hash_date(x, data))"
   ]
  },
  {
   "cell_type": "code",
   "execution_count": 21,
   "metadata": {
    "collapsed": true
   },
   "outputs": [],
   "source": [
    "df2[\"sys_entropy\"] = df2.hashtags.apply(lambda x: entropy(x))"
   ]
  },
  {
   "cell_type": "code",
   "execution_count": 22,
   "metadata": {
    "collapsed": false
   },
   "outputs": [],
   "source": [
    "user_entropy_by_day['date'] = user_entropy_by_day.index"
   ]
  },
  {
   "cell_type": "code",
   "execution_count": 24,
   "metadata": {
    "collapsed": true
   },
   "outputs": [],
   "source": [
    "entropy_df = pd.merge(df2, user_entropy_by_day, on='date', how='outer')\n"
   ]
  },
  {
   "cell_type": "code",
   "execution_count": 25,
   "metadata": {
    "collapsed": false
   },
   "outputs": [],
   "source": [
    "sorted = entropy_df.sort_values(by=\"sys_entropy\")"
   ]
  },
  {
   "cell_type": "code",
   "execution_count": 30,
   "metadata": {
    "collapsed": false
   },
   "outputs": [
    {
     "data": {
      "image/png": "[encoded data removed]",
      "text/plain": [
       "<matplotlib.figure.Figure at 0x23042086390>"
      ]
     },
     "metadata": {},
     "output_type": "display_data"
    }
   ],
   "source": [
    "import matplotlib.pyplot as plt\n",
    "length=len(sorted)\n",
    "x = [x for x in range(0,length)]\n",
    "plt.title(\"System Entropy(sorted) and user Entropy (Average) per day\")\n",
    "plt.xticks(np.arange(0,max(x),40))\n",
    "plt.yticks(range(0,int(max(sorted.sys_entropy)+2)))\n",
    "plt.xlabel(\"Days Rank\")\n",
    "plt.ylabel(\"Entropy\")\n",
    "plt.scatter(x,sorted.entropy.values,label='User Entropy',color=\"g\")\n",
    "plt.scatter(x,sorted.sys_entropy.values,label='System Entropy',color=\"y\")\n",
    "plt.show()"
   ]
  },
  {
   "cell_type": "code",
   "execution_count": null,
   "metadata": {
    "collapsed": true
   },
   "outputs": [],
   "source": []
  }
 ],
 "metadata": {
  "anaconda-cloud": {},
  "kernelspec": {
   "display_name": "Python [conda root]",
   "language": "python",
   "name": "conda-root-py"
  },
  "language_info": {
   "codemirror_mode": {
    "name": "ipython",
    "version": 3
   },
   "file_extension": ".py",
   "mimetype": "text/x-python",
   "name": "python",
   "nbconvert_exporter": "python",
   "pygments_lexer": "ipython3",
   "version": "3.5.2"
  }
 },
 "nbformat": 4,
 "nbformat_minor": 1
}
