{
 "cells": [
  {
   "cell_type": "code",
   "execution_count": 2,
   "metadata": {
    "collapsed": true
   },
   "outputs": [],
   "source": [
    "import gzip\n",
    "import math"
   ]
  },
  {
   "cell_type": "code",
   "execution_count": 5,
   "metadata": {
    "collapsed": false
   },
   "outputs": [],
   "source": [
    "def sysEntropy(hashtag, date):\n",
    "    count_memes = dict()\n",
    "    idxs, ns = [], []\n",
    "    entropy, i, a, j= 0, 0, 0, 0\n",
    "\n",
    "    print('test')\n",
    "    for d in date:\n",
    "        if i != 0:\n",
    "            if d == date[i-1]:\n",
    "                a += 1\n",
    "            else:\n",
    "                idxs.append(a)\n",
    "        i += 1\n",
    "        \n",
    "    for idx in idxs:\n",
    "        ns.append(len(set(hashtag[:idx])))\n",
    "        for h in set(hashtag):\n",
    "            count_memes[date[idx]] = hashtag[:idx].count(h)\n",
    "\n",
    "    for date, meme in count_memes.items():\n",
    "        pass\n",
    "    # for meme in count_memes:\n",
    "    #     f = meme/n\n",
    "    #     entropy += f * math.log(f)\n",
    "\n",
    "    return entropy\n"
   ]
  },
  {
   "cell_type": "code",
   "execution_count": 4,
   "metadata": {
    "collapsed": false
   },
   "outputs": [],
   "source": [
    "hashtags, user, date = [], [], []\n",
    "f= gzip.open('onlyhash.data.gz', mode='r')\n",
    "file_content = f.read().decode()\n",
    "#print(file_content)\n",
    "rows = file_content.split(\"\\n\")\n",
    "for row in rows:\n",
    "    items = row.split(\"\\t\")\n",
    "    if len(items) > 1:\n",
    "        user.append(items[0])\n",
    "        date.append(items[1])\n",
    "        if \":\" in items[2]:\n",
    "            hasht = items[2].split(\":\")\n",
    "            for h in hasht:\n",
    "                hashtags.append(h)\n",
    "        else:\n",
    "            hashtags.append(items[2])\n",
    "hashtags.remove('')\n"
   ]
  },
  {
   "cell_type": "code",
   "execution_count": null,
   "metadata": {
    "collapsed": true
   },
   "outputs": [],
   "source": [
    "sys_entropy = sysEntropy(hashtags, date)\n",
    "print(\"System Entropy is \"+sys_entropy)"
   ]
  }
 ],
 "metadata": {
  "anaconda-cloud": {},
  "kernelspec": {
   "display_name": "Python [default]",
   "language": "python",
   "name": "python3"
  },
  "language_info": {
   "codemirror_mode": {
    "name": "ipython",
    "version": 3
   },
   "file_extension": ".py",
   "mimetype": "text/x-python",
   "name": "python",
   "nbconvert_exporter": "python",
   "pygments_lexer": "ipython3",
   "version": "3.5.2"
  }
 },
 "nbformat": 4,
 "nbformat_minor": 1
}
