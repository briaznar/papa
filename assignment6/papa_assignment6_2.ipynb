{
 "cells": [
  {
   "cell_type": "markdown",
   "metadata": {},
   "source": [
    "# It's possible to read Simple English Wikipedia in 30 days time"
   ]
  },
  {
   "cell_type": "markdown",
   "metadata": {},
   "source": [
    "Avarage reading speed is 180 Words per minute (in a monitor)\n",
    "source: https://en.wikipedia.org/wiki/Words_per_minute#Reading_and_comprehension\n",
    "Speed readers can read about 700 words per minute\n",
    "source: https://en.wikipedia.org/wiki/Speed_reading\n",
    "\n",
    "Given this: Count the total number of words in Simple English Wikipedia and calculate how long it will take for each to finish reading it.\n",
    "\n",
    "Since the initial observation states that Simple English Wikipedia articles are short, counting this words, and taking this speeds into consideration we calculated that 30 days is a plausible time for doing this task."
   ]
  },
  {
   "cell_type": "code",
   "execution_count": 2,
   "metadata": {
    "collapsed": true
   },
   "outputs": [],
   "source": [
    "import os\n",
    "import re\n",
    "import matplotlib.pyplot as plt\n",
    "import matplotlib.patches as mpatches"
   ]
  },
  {
   "cell_type": "code",
   "execution_count": 3,
   "metadata": {
    "collapsed": false
   },
   "outputs": [],
   "source": [
    "def get_total_words():\n",
    "    total_words = 0\n",
    "    with open(\"simple-20160801-1-article-per-line\\simple_english_wikipedia.txt\", encoding=\"utf8\") as file:\n",
    "        for line in file:\n",
    "            total_words += len(re.findall(r'\\w+', line))\n",
    "    return total_words"
   ]
  },
  {
   "cell_type": "code",
   "execution_count": 4,
   "metadata": {
    "collapsed": true
   },
   "outputs": [],
   "source": [
    "def get_avg_time(words):\n",
    "    avg_speed = 180\n",
    "    return ((words/avg_speed)/60)/24\n",
    "    \n",
    "    "
   ]
  },
  {
   "cell_type": "code",
   "execution_count": 5,
   "metadata": {
    "collapsed": true
   },
   "outputs": [],
   "source": [
    "def get_speedy_time(words):\n",
    "    speedy_speed = 700\n",
    "    return ((words/speedy_speed)/60)/24\n",
    "    "
   ]
  },
  {
   "cell_type": "code",
   "execution_count": 6,
   "metadata": {
    "collapsed": true
   },
   "outputs": [],
   "source": [
    "def get_wpm(words):\n",
    "    time = 43200 #30 days in minutes\n",
    "    return (words/time)"
   ]
  },
  {
   "cell_type": "code",
   "execution_count": 7,
   "metadata": {
    "collapsed": false
   },
   "outputs": [
    {
     "name": "stdout",
     "output_type": "stream",
     "text": [
      "Total number of words:  16451390\n",
      "Total time (in days) for an average reader:  63.47\n",
      "Total time (in days) for a speed reader:  16.32\n"
     ]
    }
   ],
   "source": [
    "words       = get_total_words()\n",
    "avg_time    = get_avg_time(words)\n",
    "speedy_time = get_speedy_time(words)\n",
    "\n",
    "print(\"Total number of words: \", words)\n",
    "print(\"Total time (in days) for an average reader: \", round(avg_time,2))\n",
    "print(\"Total time (in days) for a speed reader: \", round(speedy_time,2))\n"
   ]
  },
  {
   "cell_type": "markdown",
   "metadata": {
    "collapsed": true
   },
   "source": [
    "It is not possible to read simple english wikipedia within 30 days (for a normal reader)\n",
    "However it is possible to do it for a speed reader."
   ]
  },
  {
   "cell_type": "code",
   "execution_count": 8,
   "metadata": {
    "collapsed": false
   },
   "outputs": [
    {
     "name": "stdout",
     "output_type": "stream",
     "text": [
      "In order to be able to read single english wikipedia within 30 days, a person should read at least 380.82 words per minute\n"
     ]
    }
   ],
   "source": [
    "wpm = get_wpm(words)\n",
    "print(\"In order to be able to read single english wikipedia within 30 days, a person should read at least\", round(wpm,2), \"words per minute\")"
   ]
  },
  {
   "cell_type": "code",
   "execution_count": 9,
   "metadata": {
    "collapsed": false
   },
   "outputs": [
    {
     "data": {
      "image/png": "[encoded data removed]",
      "text/plain": [
       "<matplotlib.figure.Figure at 0x296426610b8>"
      ]
     },
     "metadata": {},
     "output_type": "display_data"
    }
   ],
   "source": [
    "y = [round(avg_time, 2),round(speedy_time,2)]\n",
    "x = len([round(avg_time, 2),round(speedy_time,2)])\n",
    "width = 1/1.5\n",
    "plt.bar(1, round(avg_time, 2), width, color=\"blue\")\n",
    "plt.bar(2, round(speedy_time,2), width, color=\"red\")\n",
    "plt.ylabel('Time in days')\n",
    "plt.xlabel('Readers')\n",
    "\n",
    "\n",
    "avg_reader = mpatches.Patch(color='blue', label='Averge reader')\n",
    "speedy_reader = mpatches.Patch(color='red', label='Speed reader')\n",
    "\n",
    "plt.legend(handles=[avg_reader, speedy_reader],loc=5)\n",
    "plt.show()\n",
    "\n"
   ]
  },
  {
   "cell_type": "code",
   "execution_count": null,
   "metadata": {
    "collapsed": true
   },
   "outputs": [],
   "source": []
  }
 ],
 "metadata": {
  "anaconda-cloud": {},
  "kernelspec": {
   "display_name": "Python [conda root]",
   "language": "python",
   "name": "conda-root-py"
  },
  "language_info": {
   "codemirror_mode": {
    "name": "ipython",
    "version": 3
   },
   "file_extension": ".py",
   "mimetype": "text/x-python",
   "name": "python",
   "nbconvert_exporter": "python",
   "pygments_lexer": "ipython3",
   "version": "3.5.2"
  }
 },
 "nbformat": 4,
 "nbformat_minor": 1
}
